{
  "nbformat": 4,
  "nbformat_minor": 0,
  "metadata": {
    "colab": {
      "name": "Predict_Rating.ipynb",
      "version": "0.3.2",
      "provenance": [],
      "collapsed_sections": [],
      "include_colab_link": true
    },
    "kernelspec": {
      "name": "python3",
      "display_name": "Python 3"
    }
  },
  "cells": [
    {
      "cell_type": "markdown",
      "metadata": {
        "id": "view-in-github",
        "colab_type": "text"
      },
      "source": [
        "<a href=\"https://colab.research.google.com/github/KantareddySaiSandeep/NLP_TextClassification_user_ratings_Prediction/blob/master/Predict_Rating.ipynb\" target=\"_parent\"><img src=\"https://colab.research.google.com/assets/colab-badge.svg\" alt=\"Open In Colab\"/></a>"
      ]
    },
    {
      "cell_type": "code",
      "metadata": {
        "id": "suRyfAnEACWX",
        "colab_type": "code",
        "outputId": "ce60781c-be3e-4483-f2ad-4afd50cffb3a",
        "colab": {
          "base_uri": "https://localhost:8080/",
          "height": 122
        }
      },
      "source": [
        "import pandas as pd\n",
        "from google.colab import drive\n",
        "drive.mount('/content/drive')"
      ],
      "execution_count": 1,
      "outputs": [
        {
          "output_type": "stream",
          "text": [
            "Go to this URL in a browser: https://accounts.google.com/o/oauth2/auth?client_id=947318989803-6bn6qk8qdgf4n4g3pfee6491hc0brc4i.apps.googleusercontent.com&redirect_uri=urn%3Aietf%3Awg%3Aoauth%3A2.0%3Aoob&scope=email%20https%3A%2F%2Fwww.googleapis.com%2Fauth%2Fdocs.test%20https%3A%2F%2Fwww.googleapis.com%2Fauth%2Fdrive%20https%3A%2F%2Fwww.googleapis.com%2Fauth%2Fdrive.photos.readonly%20https%3A%2F%2Fwww.googleapis.com%2Fauth%2Fpeopleapi.readonly&response_type=code\n",
            "\n",
            "Enter your authorization code:\n",
            "··········\n",
            "Mounted at /content/drive\n"
          ],
          "name": "stdout"
        }
      ]
    },
    {
      "cell_type": "code",
      "metadata": {
        "id": "DbDf0jvU2_h0",
        "colab_type": "code",
        "colab": {}
      },
      "source": [
        "from sklearn.feature_extraction.text import CountVectorizer, TfidfVectorizer\n",
        "from sklearn.model_selection import train_test_split\n",
        "from sklearn.ensemble import RandomForestClassifier\n",
        "from sklearn.metrics import confusion_matrix, classification_report, f1_score\n",
        "import numpy as np\n",
        "import matplotlib.pyplot as plt"
      ],
      "execution_count": 0,
      "outputs": []
    },
    {
      "cell_type": "code",
      "metadata": {
        "id": "11BUt3Y_AE9L",
        "colab_type": "code",
        "colab": {}
      },
      "source": [
        "train=pd.read_csv('/content/drive/My Drive/train.csv')\n"
      ],
      "execution_count": 0,
      "outputs": []
    },
    {
      "cell_type": "code",
      "metadata": {
        "id": "csMOCSRb8XZt",
        "colab_type": "code",
        "colab": {}
      },
      "source": [
        "test=pd.read_csv('/content/drive/My Drive/test.csv')"
      ],
      "execution_count": 0,
      "outputs": []
    },
    {
      "cell_type": "code",
      "metadata": {
        "id": "_-y93i3fii4_",
        "colab_type": "code",
        "outputId": "be2cc819-8b85-4092-f54f-1274e0068c45",
        "colab": {
          "base_uri": "https://localhost:8080/",
          "height": 1000
        }
      },
      "source": [
        "train.head(100)"
      ],
      "execution_count": 0,
      "outputs": [
        {
          "output_type": "execute_result",
          "data": {
            "text/html": [
              "<div>\n",
              "<style scoped>\n",
              "    .dataframe tbody tr th:only-of-type {\n",
              "        vertical-align: middle;\n",
              "    }\n",
              "\n",
              "    .dataframe tbody tr th {\n",
              "        vertical-align: top;\n",
              "    }\n",
              "\n",
              "    .dataframe thead th {\n",
              "        text-align: right;\n",
              "    }\n",
              "</style>\n",
              "<table border=\"1\" class=\"dataframe\">\n",
              "  <thead>\n",
              "    <tr style=\"text-align: right;\">\n",
              "      <th></th>\n",
              "      <th>id</th>\n",
              "      <th>App Version Code</th>\n",
              "      <th>App Version Name</th>\n",
              "      <th>Review Text</th>\n",
              "      <th>Review Title</th>\n",
              "      <th>Star Rating</th>\n",
              "    </tr>\n",
              "  </thead>\n",
              "  <tbody>\n",
              "    <tr>\n",
              "      <th>0</th>\n",
              "      <td>b817b0f0-a2f8-4c9d-a5f6-d3fbf8b1d7e9</td>\n",
              "      <td>NaN</td>\n",
              "      <td>NaN</td>\n",
              "      <td>Very bad wallet balance not use.</td>\n",
              "      <td>NaN</td>\n",
              "      <td>1</td>\n",
              "    </tr>\n",
              "    <tr>\n",
              "      <th>1</th>\n",
              "      <td>c7844e8f-56c1-487b-ae3e-df2fdf4c1767</td>\n",
              "      <td>43.0</td>\n",
              "      <td>2.30</td>\n",
              "      <td>Froud app i recharge 199 but not done also sen...</td>\n",
              "      <td>NaN</td>\n",
              "      <td>1</td>\n",
              "    </tr>\n",
              "    <tr>\n",
              "      <th>2</th>\n",
              "      <td>93ff57f7-9e02-4fa9-b779-3db82b8af0a4</td>\n",
              "      <td>52.0</td>\n",
              "      <td>2.12</td>\n",
              "      <td>Waste to write comments also</td>\n",
              "      <td>Waste no use</td>\n",
              "      <td>2</td>\n",
              "    </tr>\n",
              "    <tr>\n",
              "      <th>3</th>\n",
              "      <td>df2dcdef-c09a-4f35-afab-e1231d3fec9a</td>\n",
              "      <td>62.0</td>\n",
              "      <td>2.21</td>\n",
              "      <td>Nice apo</td>\n",
              "      <td>NaN</td>\n",
              "      <td>5</td>\n",
              "    </tr>\n",
              "    <tr>\n",
              "      <th>4</th>\n",
              "      <td>11f8f968-4cec-4424-8427-9709ab05b5be</td>\n",
              "      <td>69.0</td>\n",
              "      <td>2.28</td>\n",
              "      <td>Good nice app</td>\n",
              "      <td>NaN</td>\n",
              "      <td>5</td>\n",
              "    </tr>\n",
              "    <tr>\n",
              "      <th>5</th>\n",
              "      <td>2d55588b-085c-4f55-872b-460520855c93</td>\n",
              "      <td>71.0</td>\n",
              "      <td>2.30</td>\n",
              "      <td>Ghatiya app. Bill fetch nhi hota ..</td>\n",
              "      <td>NaN</td>\n",
              "      <td>1</td>\n",
              "    </tr>\n",
              "    <tr>\n",
              "      <th>6</th>\n",
              "      <td>87308f01-c741-4887-877f-4d42609761c3</td>\n",
              "      <td>74.0</td>\n",
              "      <td>2.33</td>\n",
              "      <td>They showed recharge successful but I didn't got</td>\n",
              "      <td>NaN</td>\n",
              "      <td>1</td>\n",
              "    </tr>\n",
              "    <tr>\n",
              "      <th>7</th>\n",
              "      <td>7048da41-474d-4a0a-9e1b-557e281bb2f3</td>\n",
              "      <td>71.0</td>\n",
              "      <td>2.30</td>\n",
              "      <td>This is good app for recharge and electric bil...</td>\n",
              "      <td>NaN</td>\n",
              "      <td>5</td>\n",
              "    </tr>\n",
              "    <tr>\n",
              "      <th>8</th>\n",
              "      <td>c73ec8cd-3f03-4f45-8b6f-f19b0fb786bc</td>\n",
              "      <td>78.0</td>\n",
              "      <td>2.37</td>\n",
              "      <td>Worst app i never had seen before</td>\n",
              "      <td>NaN</td>\n",
              "      <td>1</td>\n",
              "    </tr>\n",
              "    <tr>\n",
              "      <th>9</th>\n",
              "      <td>e2d6f61a-270c-4573-b7d0-229a81324ba9</td>\n",
              "      <td>53.0</td>\n",
              "      <td>2.13</td>\n",
              "      <td>Good</td>\n",
              "      <td>Liked</td>\n",
              "      <td>4</td>\n",
              "    </tr>\n",
              "    <tr>\n",
              "      <th>10</th>\n",
              "      <td>e6a1aa28-5ca8-4074-ab53-3bd7aad015d6</td>\n",
              "      <td>78.0</td>\n",
              "      <td>2.37</td>\n",
              "      <td>Superb app</td>\n",
              "      <td>NaN</td>\n",
              "      <td>5</td>\n",
              "    </tr>\n",
              "    <tr>\n",
              "      <th>11</th>\n",
              "      <td>4a3f139b-959c-453d-ac9c-02ccd0371013</td>\n",
              "      <td>81.0</td>\n",
              "      <td>2.40</td>\n",
              "      <td>I m selecting UPW as a circle but it's only sh...</td>\n",
              "      <td>NaN</td>\n",
              "      <td>1</td>\n",
              "    </tr>\n",
              "    <tr>\n",
              "      <th>12</th>\n",
              "      <td>ee7c3f15-fa1c-4a9f-bbf3-ef77f662126a</td>\n",
              "      <td>78.0</td>\n",
              "      <td>2.37</td>\n",
              "      <td>Refer hum Kar Hi Nahi Payenge aapke product ke...</td>\n",
              "      <td>NaN</td>\n",
              "      <td>1</td>\n",
              "    </tr>\n",
              "    <tr>\n",
              "      <th>13</th>\n",
              "      <td>8d75789d-28e3-4aa4-9701-b050c1e27655</td>\n",
              "      <td>87.0</td>\n",
              "      <td>2.46</td>\n",
              "      <td>good apps</td>\n",
              "      <td>NaN</td>\n",
              "      <td>4</td>\n",
              "    </tr>\n",
              "    <tr>\n",
              "      <th>14</th>\n",
              "      <td>450d434c-6212-4636-879a-eb04542606d7</td>\n",
              "      <td>69.0</td>\n",
              "      <td>2.28</td>\n",
              "      <td>Excellent</td>\n",
              "      <td>NaN</td>\n",
              "      <td>5</td>\n",
              "    </tr>\n",
              "    <tr>\n",
              "      <th>15</th>\n",
              "      <td>cbb045b7-ee54-468e-ad27-083e062e950c</td>\n",
              "      <td>76.0</td>\n",
              "      <td>2.35</td>\n",
              "      <td>excellent</td>\n",
              "      <td>NaN</td>\n",
              "      <td>5</td>\n",
              "    </tr>\n",
              "    <tr>\n",
              "      <th>16</th>\n",
              "      <td>68e30a0f-d19e-4349-9175-40ff10c55896</td>\n",
              "      <td>86.0</td>\n",
              "      <td>2.45</td>\n",
              "      <td>Super</td>\n",
              "      <td>NaN</td>\n",
              "      <td>5</td>\n",
              "    </tr>\n",
              "    <tr>\n",
              "      <th>17</th>\n",
              "      <td>d067db98-7904-403b-9f8e-4a87cc27401a</td>\n",
              "      <td>88.0</td>\n",
              "      <td>2.47</td>\n",
              "      <td>aswm</td>\n",
              "      <td>NaN</td>\n",
              "      <td>5</td>\n",
              "    </tr>\n",
              "    <tr>\n",
              "      <th>18</th>\n",
              "      <td>1ee9354a-5167-492d-b3d9-0395c92bcacc</td>\n",
              "      <td>89.0</td>\n",
              "      <td>2.48</td>\n",
              "      <td>nice app</td>\n",
              "      <td>NaN</td>\n",
              "      <td>5</td>\n",
              "    </tr>\n",
              "    <tr>\n",
              "      <th>19</th>\n",
              "      <td>2a0e7618-d01f-4380-ae6a-779857f92ed4</td>\n",
              "      <td>40.0</td>\n",
              "      <td>2.00</td>\n",
              "      <td>App is not working properly</td>\n",
              "      <td>NaN</td>\n",
              "      <td>1</td>\n",
              "    </tr>\n",
              "    <tr>\n",
              "      <th>20</th>\n",
              "      <td>15f1e117-e8cd-41c5-8b39-198f6ebf3553</td>\n",
              "      <td>78.0</td>\n",
              "      <td>2.37</td>\n",
              "      <td>Good aap</td>\n",
              "      <td>NaN</td>\n",
              "      <td>5</td>\n",
              "    </tr>\n",
              "    <tr>\n",
              "      <th>21</th>\n",
              "      <td>d84d6b7f-2347-4656-99b3-8b95a98e2db6</td>\n",
              "      <td>83.0</td>\n",
              "      <td>2.42</td>\n",
              "      <td>Well I just love it 😊😊 that's all I could say</td>\n",
              "      <td>NaN</td>\n",
              "      <td>5</td>\n",
              "    </tr>\n",
              "    <tr>\n",
              "      <th>22</th>\n",
              "      <td>db6196f4-cdf4-4c70-ae7f-17f039759602</td>\n",
              "      <td>78.0</td>\n",
              "      <td>2.37</td>\n",
              "      <td>So far I am happy</td>\n",
              "      <td>NaN</td>\n",
              "      <td>3</td>\n",
              "    </tr>\n",
              "    <tr>\n",
              "      <th>23</th>\n",
              "      <td>c70ee2ac-07fa-437e-989c-7ae37ef0e830</td>\n",
              "      <td>90.0</td>\n",
              "      <td>2.49</td>\n",
              "      <td>Amazing assistant, makes work easier.</td>\n",
              "      <td>NaN</td>\n",
              "      <td>5</td>\n",
              "    </tr>\n",
              "    <tr>\n",
              "      <th>24</th>\n",
              "      <td>33576c80-a453-4f70-b17f-fe4f700831d7</td>\n",
              "      <td>81.0</td>\n",
              "      <td>2.40</td>\n",
              "      <td>Non sense app . no confirmation of payments , ...</td>\n",
              "      <td>NaN</td>\n",
              "      <td>1</td>\n",
              "    </tr>\n",
              "    <tr>\n",
              "      <th>25</th>\n",
              "      <td>aee22649-9a89-40bf-9f4e-fa9b6d7d78a7</td>\n",
              "      <td>80.0</td>\n",
              "      <td>2.39</td>\n",
              "      <td>Bad experience</td>\n",
              "      <td>NaN</td>\n",
              "      <td>1</td>\n",
              "    </tr>\n",
              "    <tr>\n",
              "      <th>26</th>\n",
              "      <td>6a276391-58fa-4bef-87c5-ac99e8d2ed88</td>\n",
              "      <td>74.0</td>\n",
              "      <td>2.33</td>\n",
              "      <td>Yesterday I done one recharge via amazon pay b...</td>\n",
              "      <td>NaN</td>\n",
              "      <td>1</td>\n",
              "    </tr>\n",
              "    <tr>\n",
              "      <th>27</th>\n",
              "      <td>47fea8a7-b2f5-4be7-8784-5b2e33ad56e7</td>\n",
              "      <td>69.0</td>\n",
              "      <td>2.28</td>\n",
              "      <td>Customer support is awesome</td>\n",
              "      <td>NaN</td>\n",
              "      <td>5</td>\n",
              "    </tr>\n",
              "    <tr>\n",
              "      <th>28</th>\n",
              "      <td>77e262e2-1c2b-402b-a2c9-5b31302c2ac5</td>\n",
              "      <td>50.0</td>\n",
              "      <td>2.10</td>\n",
              "      <td>It's annoying. When you try to make transactio...</td>\n",
              "      <td>Very Poor Experience</td>\n",
              "      <td>1</td>\n",
              "    </tr>\n",
              "    <tr>\n",
              "      <th>29</th>\n",
              "      <td>e1825956-730d-4961-95c4-8110427179f2</td>\n",
              "      <td>75.0</td>\n",
              "      <td>2.34</td>\n",
              "      <td>It very very friendly app ,thank you so much</td>\n",
              "      <td>NaN</td>\n",
              "      <td>5</td>\n",
              "    </tr>\n",
              "    <tr>\n",
              "      <th>...</th>\n",
              "      <td>...</td>\n",
              "      <td>...</td>\n",
              "      <td>...</td>\n",
              "      <td>...</td>\n",
              "      <td>...</td>\n",
              "      <td>...</td>\n",
              "    </tr>\n",
              "    <tr>\n",
              "      <th>70</th>\n",
              "      <td>11ff9a45-782b-423a-baa8-b1a829ba8c62</td>\n",
              "      <td>59.0</td>\n",
              "      <td>2.18</td>\n",
              "      <td>Use SANDEEP289 as referral id to get rs 10 on ...</td>\n",
              "      <td>NaN</td>\n",
              "      <td>5</td>\n",
              "    </tr>\n",
              "    <tr>\n",
              "      <th>71</th>\n",
              "      <td>9592a36e-394e-4493-80ea-ea5f62718600</td>\n",
              "      <td>55.0</td>\n",
              "      <td>2.14</td>\n",
              "      <td>Nice app</td>\n",
              "      <td>NaN</td>\n",
              "      <td>5</td>\n",
              "    </tr>\n",
              "    <tr>\n",
              "      <th>72</th>\n",
              "      <td>081ec296-ced3-4cf1-b076-8f9399dc6591</td>\n",
              "      <td>NaN</td>\n",
              "      <td>NaN</td>\n",
              "      <td>Best recharge app to get free benefits</td>\n",
              "      <td>Fantastic</td>\n",
              "      <td>5</td>\n",
              "    </tr>\n",
              "    <tr>\n",
              "      <th>73</th>\n",
              "      <td>87560bcf-271d-4461-b3ad-a996f5efc852</td>\n",
              "      <td>NaN</td>\n",
              "      <td>NaN</td>\n",
              "      <td>I hear about you from yourstory.com. its s won...</td>\n",
              "      <td>NaN</td>\n",
              "      <td>4</td>\n",
              "    </tr>\n",
              "    <tr>\n",
              "      <th>74</th>\n",
              "      <td>b912ecc6-f5bc-421e-a402-d66481cd4d4a</td>\n",
              "      <td>69.0</td>\n",
              "      <td>2.28</td>\n",
              "      <td>It showed 75 Cashback by paying with amazon pa...</td>\n",
              "      <td>NaN</td>\n",
              "      <td>1</td>\n",
              "    </tr>\n",
              "    <tr>\n",
              "      <th>75</th>\n",
              "      <td>e407c675-b192-4ed4-8d13-2c6fa398b4aa</td>\n",
              "      <td>86.0</td>\n",
              "      <td>2.45</td>\n",
              "      <td>Good customer service</td>\n",
              "      <td>NaN</td>\n",
              "      <td>5</td>\n",
              "    </tr>\n",
              "    <tr>\n",
              "      <th>76</th>\n",
              "      <td>c8adb451-11cb-4815-969f-5a2348ed3d6b</td>\n",
              "      <td>74.0</td>\n",
              "      <td>2.33</td>\n",
              "      <td>Good offers on bill payments</td>\n",
              "      <td>NaN</td>\n",
              "      <td>5</td>\n",
              "    </tr>\n",
              "    <tr>\n",
              "      <th>77</th>\n",
              "      <td>568eeb57-fc50-4135-ae4a-22d1f647a5cd</td>\n",
              "      <td>71.0</td>\n",
              "      <td>2.30</td>\n",
              "      <td>Great app. Please provide more cashback with A...</td>\n",
              "      <td>NaN</td>\n",
              "      <td>5</td>\n",
              "    </tr>\n",
              "    <tr>\n",
              "      <th>78</th>\n",
              "      <td>6965bff3-9214-45ef-8df9-6339043dea37</td>\n",
              "      <td>37.0</td>\n",
              "      <td>1.17</td>\n",
              "      <td>Just used it to pay electricity bills would de...</td>\n",
              "      <td>Useful app</td>\n",
              "      <td>5</td>\n",
              "    </tr>\n",
              "    <tr>\n",
              "      <th>79</th>\n",
              "      <td>d654f3ba-2a19-4055-9c26-7cc88c67b953</td>\n",
              "      <td>75.0</td>\n",
              "      <td>2.34</td>\n",
              "      <td>Easy to use and very durable app</td>\n",
              "      <td>NaN</td>\n",
              "      <td>5</td>\n",
              "    </tr>\n",
              "    <tr>\n",
              "      <th>80</th>\n",
              "      <td>2ed1ab88-5cb3-43d5-9b7f-aa92feebf212</td>\n",
              "      <td>80.0</td>\n",
              "      <td>2.39</td>\n",
              "      <td>Nice</td>\n",
              "      <td>NaN</td>\n",
              "      <td>4</td>\n",
              "    </tr>\n",
              "    <tr>\n",
              "      <th>81</th>\n",
              "      <td>568fc33b-f1a8-48c9-83ed-6a175d9c7ca6</td>\n",
              "      <td>NaN</td>\n",
              "      <td>NaN</td>\n",
              "      <td>wow niki solved my problem so I am happy now...</td>\n",
              "      <td>NaN</td>\n",
              "      <td>3</td>\n",
              "    </tr>\n",
              "    <tr>\n",
              "      <th>82</th>\n",
              "      <td>af89f92b-64f8-4db2-bb66-4e7989d89152</td>\n",
              "      <td>NaN</td>\n",
              "      <td>NaN</td>\n",
              "      <td>Best</td>\n",
              "      <td>NaN</td>\n",
              "      <td>5</td>\n",
              "    </tr>\n",
              "    <tr>\n",
              "      <th>83</th>\n",
              "      <td>1f693129-d954-4779-a3bb-495d8c2d03ac</td>\n",
              "      <td>89.0</td>\n",
              "      <td>2.48</td>\n",
              "      <td>great</td>\n",
              "      <td>NaN</td>\n",
              "      <td>5</td>\n",
              "    </tr>\n",
              "    <tr>\n",
              "      <th>84</th>\n",
              "      <td>6286eefc-122b-4f93-b562-e46cef8eebbd</td>\n",
              "      <td>83.0</td>\n",
              "      <td>2.42</td>\n",
              "      <td>use full app</td>\n",
              "      <td>NaN</td>\n",
              "      <td>3</td>\n",
              "    </tr>\n",
              "    <tr>\n",
              "      <th>85</th>\n",
              "      <td>05eb2976-ba69-40ea-acc5-ca27fee4cac0</td>\n",
              "      <td>83.0</td>\n",
              "      <td>2.42</td>\n",
              "      <td>Very nice app</td>\n",
              "      <td>NaN</td>\n",
              "      <td>5</td>\n",
              "    </tr>\n",
              "    <tr>\n",
              "      <th>86</th>\n",
              "      <td>ba1a64bb-d647-42fc-bbb5-e83ab81017be</td>\n",
              "      <td>86.0</td>\n",
              "      <td>2.45</td>\n",
              "      <td>Amazing and very nice app quick third party tr...</td>\n",
              "      <td>NaN</td>\n",
              "      <td>5</td>\n",
              "    </tr>\n",
              "    <tr>\n",
              "      <th>87</th>\n",
              "      <td>d87b8591-b55d-44a1-b327-c05838f8c447</td>\n",
              "      <td>NaN</td>\n",
              "      <td>NaN</td>\n",
              "      <td>I think this will revolutionise the todays sho...</td>\n",
              "      <td>Awesome ideas</td>\n",
              "      <td>5</td>\n",
              "    </tr>\n",
              "    <tr>\n",
              "      <th>88</th>\n",
              "      <td>f5334939-ca0a-4730-8290-117a884bbc22</td>\n",
              "      <td>88.0</td>\n",
              "      <td>2.47</td>\n",
              "      <td>good</td>\n",
              "      <td>NaN</td>\n",
              "      <td>5</td>\n",
              "    </tr>\n",
              "    <tr>\n",
              "      <th>89</th>\n",
              "      <td>a2a9bcdd-c4e7-495b-a366-defa8689fd0d</td>\n",
              "      <td>NaN</td>\n",
              "      <td>NaN</td>\n",
              "      <td>Frod app</td>\n",
              "      <td>NaN</td>\n",
              "      <td>1</td>\n",
              "    </tr>\n",
              "    <tr>\n",
              "      <th>90</th>\n",
              "      <td>49bf294d-2871-43d2-ab1c-2ff93a504fb6</td>\n",
              "      <td>66.0</td>\n",
              "      <td>2.25</td>\n",
              "      <td>Really fantastic, the booking of bus ticket an...</td>\n",
              "      <td>NaN</td>\n",
              "      <td>5</td>\n",
              "    </tr>\n",
              "    <tr>\n",
              "      <th>91</th>\n",
              "      <td>62989766-ac92-4981-b033-b1084812740f</td>\n",
              "      <td>68.0</td>\n",
              "      <td>2.27</td>\n",
              "      <td>Deducted rs.399 no recharge received till now....</td>\n",
              "      <td>NaN</td>\n",
              "      <td>1</td>\n",
              "    </tr>\n",
              "    <tr>\n",
              "      <th>92</th>\n",
              "      <td>387620cb-c79e-4879-b1a3-cdb0ba2768ba</td>\n",
              "      <td>NaN</td>\n",
              "      <td>NaN</td>\n",
              "      <td>Yes niki is of no use. I got offer only for fi...</td>\n",
              "      <td>NaN</td>\n",
              "      <td>1</td>\n",
              "    </tr>\n",
              "    <tr>\n",
              "      <th>93</th>\n",
              "      <td>36a54b89-e9b3-413a-aea1-1c9802af0778</td>\n",
              "      <td>81.0</td>\n",
              "      <td>2.40</td>\n",
              "      <td>This one sucks</td>\n",
              "      <td>NaN</td>\n",
              "      <td>1</td>\n",
              "    </tr>\n",
              "    <tr>\n",
              "      <th>94</th>\n",
              "      <td>12ee1210-a1d0-4a6c-bd07-9fe87c5c95db</td>\n",
              "      <td>62.0</td>\n",
              "      <td>2.21</td>\n",
              "      <td>Worst App</td>\n",
              "      <td>NaN</td>\n",
              "      <td>2</td>\n",
              "    </tr>\n",
              "    <tr>\n",
              "      <th>95</th>\n",
              "      <td>f1fec07e-a4a1-46e4-9cd7-4818e200591f</td>\n",
              "      <td>83.0</td>\n",
              "      <td>2.42</td>\n",
              "      <td>Best offers for Bill payment and recharge</td>\n",
              "      <td>NaN</td>\n",
              "      <td>4</td>\n",
              "    </tr>\n",
              "    <tr>\n",
              "      <th>96</th>\n",
              "      <td>4404d3c1-40a6-4133-a06b-00e0ea665a7a</td>\n",
              "      <td>NaN</td>\n",
              "      <td>NaN</td>\n",
              "      <td>Nice work</td>\n",
              "      <td>NaN</td>\n",
              "      <td>5</td>\n",
              "    </tr>\n",
              "    <tr>\n",
              "      <th>97</th>\n",
              "      <td>ced37487-adb5-4c58-98a4-5038821d25f0</td>\n",
              "      <td>88.0</td>\n",
              "      <td>2.47</td>\n",
              "      <td>super</td>\n",
              "      <td>NaN</td>\n",
              "      <td>5</td>\n",
              "    </tr>\n",
              "    <tr>\n",
              "      <th>98</th>\n",
              "      <td>290ca40f-44e4-4b39-b3bf-3a519cd97c6d</td>\n",
              "      <td>90.0</td>\n",
              "      <td>2.49</td>\n",
              "      <td>will be better</td>\n",
              "      <td>NaN</td>\n",
              "      <td>3</td>\n",
              "    </tr>\n",
              "    <tr>\n",
              "      <th>99</th>\n",
              "      <td>e25e0817-f7ca-4f5f-9e17-f4989916903d</td>\n",
              "      <td>78.0</td>\n",
              "      <td>2.37</td>\n",
              "      <td>Everything is good except some billers like BS...</td>\n",
              "      <td>NaN</td>\n",
              "      <td>4</td>\n",
              "    </tr>\n",
              "  </tbody>\n",
              "</table>\n",
              "<p>100 rows × 6 columns</p>\n",
              "</div>"
            ],
            "text/plain": [
              "                                      id  ...  Star Rating\n",
              "0   b817b0f0-a2f8-4c9d-a5f6-d3fbf8b1d7e9  ...            1\n",
              "1   c7844e8f-56c1-487b-ae3e-df2fdf4c1767  ...            1\n",
              "2   93ff57f7-9e02-4fa9-b779-3db82b8af0a4  ...            2\n",
              "3   df2dcdef-c09a-4f35-afab-e1231d3fec9a  ...            5\n",
              "4   11f8f968-4cec-4424-8427-9709ab05b5be  ...            5\n",
              "5   2d55588b-085c-4f55-872b-460520855c93  ...            1\n",
              "6   87308f01-c741-4887-877f-4d42609761c3  ...            1\n",
              "7   7048da41-474d-4a0a-9e1b-557e281bb2f3  ...            5\n",
              "8   c73ec8cd-3f03-4f45-8b6f-f19b0fb786bc  ...            1\n",
              "9   e2d6f61a-270c-4573-b7d0-229a81324ba9  ...            4\n",
              "10  e6a1aa28-5ca8-4074-ab53-3bd7aad015d6  ...            5\n",
              "11  4a3f139b-959c-453d-ac9c-02ccd0371013  ...            1\n",
              "12  ee7c3f15-fa1c-4a9f-bbf3-ef77f662126a  ...            1\n",
              "13  8d75789d-28e3-4aa4-9701-b050c1e27655  ...            4\n",
              "14  450d434c-6212-4636-879a-eb04542606d7  ...            5\n",
              "15  cbb045b7-ee54-468e-ad27-083e062e950c  ...            5\n",
              "16  68e30a0f-d19e-4349-9175-40ff10c55896  ...            5\n",
              "17  d067db98-7904-403b-9f8e-4a87cc27401a  ...            5\n",
              "18  1ee9354a-5167-492d-b3d9-0395c92bcacc  ...            5\n",
              "19  2a0e7618-d01f-4380-ae6a-779857f92ed4  ...            1\n",
              "20  15f1e117-e8cd-41c5-8b39-198f6ebf3553  ...            5\n",
              "21  d84d6b7f-2347-4656-99b3-8b95a98e2db6  ...            5\n",
              "22  db6196f4-cdf4-4c70-ae7f-17f039759602  ...            3\n",
              "23  c70ee2ac-07fa-437e-989c-7ae37ef0e830  ...            5\n",
              "24  33576c80-a453-4f70-b17f-fe4f700831d7  ...            1\n",
              "25  aee22649-9a89-40bf-9f4e-fa9b6d7d78a7  ...            1\n",
              "26  6a276391-58fa-4bef-87c5-ac99e8d2ed88  ...            1\n",
              "27  47fea8a7-b2f5-4be7-8784-5b2e33ad56e7  ...            5\n",
              "28  77e262e2-1c2b-402b-a2c9-5b31302c2ac5  ...            1\n",
              "29  e1825956-730d-4961-95c4-8110427179f2  ...            5\n",
              "..                                   ...  ...          ...\n",
              "70  11ff9a45-782b-423a-baa8-b1a829ba8c62  ...            5\n",
              "71  9592a36e-394e-4493-80ea-ea5f62718600  ...            5\n",
              "72  081ec296-ced3-4cf1-b076-8f9399dc6591  ...            5\n",
              "73  87560bcf-271d-4461-b3ad-a996f5efc852  ...            4\n",
              "74  b912ecc6-f5bc-421e-a402-d66481cd4d4a  ...            1\n",
              "75  e407c675-b192-4ed4-8d13-2c6fa398b4aa  ...            5\n",
              "76  c8adb451-11cb-4815-969f-5a2348ed3d6b  ...            5\n",
              "77  568eeb57-fc50-4135-ae4a-22d1f647a5cd  ...            5\n",
              "78  6965bff3-9214-45ef-8df9-6339043dea37  ...            5\n",
              "79  d654f3ba-2a19-4055-9c26-7cc88c67b953  ...            5\n",
              "80  2ed1ab88-5cb3-43d5-9b7f-aa92feebf212  ...            4\n",
              "81  568fc33b-f1a8-48c9-83ed-6a175d9c7ca6  ...            3\n",
              "82  af89f92b-64f8-4db2-bb66-4e7989d89152  ...            5\n",
              "83  1f693129-d954-4779-a3bb-495d8c2d03ac  ...            5\n",
              "84  6286eefc-122b-4f93-b562-e46cef8eebbd  ...            3\n",
              "85  05eb2976-ba69-40ea-acc5-ca27fee4cac0  ...            5\n",
              "86  ba1a64bb-d647-42fc-bbb5-e83ab81017be  ...            5\n",
              "87  d87b8591-b55d-44a1-b327-c05838f8c447  ...            5\n",
              "88  f5334939-ca0a-4730-8290-117a884bbc22  ...            5\n",
              "89  a2a9bcdd-c4e7-495b-a366-defa8689fd0d  ...            1\n",
              "90  49bf294d-2871-43d2-ab1c-2ff93a504fb6  ...            5\n",
              "91  62989766-ac92-4981-b033-b1084812740f  ...            1\n",
              "92  387620cb-c79e-4879-b1a3-cdb0ba2768ba  ...            1\n",
              "93  36a54b89-e9b3-413a-aea1-1c9802af0778  ...            1\n",
              "94  12ee1210-a1d0-4a6c-bd07-9fe87c5c95db  ...            2\n",
              "95  f1fec07e-a4a1-46e4-9cd7-4818e200591f  ...            4\n",
              "96  4404d3c1-40a6-4133-a06b-00e0ea665a7a  ...            5\n",
              "97  ced37487-adb5-4c58-98a4-5038821d25f0  ...            5\n",
              "98  290ca40f-44e4-4b39-b3bf-3a519cd97c6d  ...            3\n",
              "99  e25e0817-f7ca-4f5f-9e17-f4989916903d  ...            4\n",
              "\n",
              "[100 rows x 6 columns]"
            ]
          },
          "metadata": {
            "tags": []
          },
          "execution_count": 170
        }
      ]
    },
    {
      "cell_type": "code",
      "metadata": {
        "id": "IMmoc__QAXv9",
        "colab_type": "code",
        "outputId": "b7aabd01-0a3e-4864-8c23-2536468f6778",
        "colab": {
          "base_uri": "https://localhost:8080/",
          "height": 204
        }
      },
      "source": [
        "test.head()"
      ],
      "execution_count": 0,
      "outputs": [
        {
          "output_type": "execute_result",
          "data": {
            "text/html": [
              "<div>\n",
              "<style scoped>\n",
              "    .dataframe tbody tr th:only-of-type {\n",
              "        vertical-align: middle;\n",
              "    }\n",
              "\n",
              "    .dataframe tbody tr th {\n",
              "        vertical-align: top;\n",
              "    }\n",
              "\n",
              "    .dataframe thead th {\n",
              "        text-align: right;\n",
              "    }\n",
              "</style>\n",
              "<table border=\"1\" class=\"dataframe\">\n",
              "  <thead>\n",
              "    <tr style=\"text-align: right;\">\n",
              "      <th></th>\n",
              "      <th>id</th>\n",
              "      <th>App Version Code</th>\n",
              "      <th>App Version Name</th>\n",
              "      <th>Review Text</th>\n",
              "    </tr>\n",
              "  </thead>\n",
              "  <tbody>\n",
              "    <tr>\n",
              "      <th>0</th>\n",
              "      <td>bdcb3129-afc1-4608-825f-558fe9c17e2b</td>\n",
              "      <td>78.000000</td>\n",
              "      <td>2.370000</td>\n",
              "      <td>Awesome app, all should use it</td>\n",
              "    </tr>\n",
              "    <tr>\n",
              "      <th>1</th>\n",
              "      <td>7518d5c8-5e35-45e2-b29d-cf0996ba9e2f</td>\n",
              "      <td>75.000000</td>\n",
              "      <td>2.340000</td>\n",
              "      <td>how can i stop notification</td>\n",
              "    </tr>\n",
              "    <tr>\n",
              "      <th>2</th>\n",
              "      <td>b21ca913-ba44-471b-91e1-aaf035379a84</td>\n",
              "      <td>70.560382</td>\n",
              "      <td>2.277854</td>\n",
              "      <td>This app is very easy to use , nice graphics ,...</td>\n",
              "    </tr>\n",
              "    <tr>\n",
              "      <th>3</th>\n",
              "      <td>beaaa17d-44af-44c8-ba38-24ba54c3b17d</td>\n",
              "      <td>83.000000</td>\n",
              "      <td>2.420000</td>\n",
              "      <td>Quite good but felt slow response from cc. Ove...</td>\n",
              "    </tr>\n",
              "    <tr>\n",
              "      <th>4</th>\n",
              "      <td>89d8c4f0-6fe0-4389-b1f8-913ba894c0f1</td>\n",
              "      <td>74.000000</td>\n",
              "      <td>2.330000</td>\n",
              "      <td>Not getting otp for login since yesterday. Als...</td>\n",
              "    </tr>\n",
              "  </tbody>\n",
              "</table>\n",
              "</div>"
            ],
            "text/plain": [
              "                                     id  ...                                        Review Text\n",
              "0  bdcb3129-afc1-4608-825f-558fe9c17e2b  ...                     Awesome app, all should use it\n",
              "1  7518d5c8-5e35-45e2-b29d-cf0996ba9e2f  ...                        how can i stop notification\n",
              "2  b21ca913-ba44-471b-91e1-aaf035379a84  ...  This app is very easy to use , nice graphics ,...\n",
              "3  beaaa17d-44af-44c8-ba38-24ba54c3b17d  ...  Quite good but felt slow response from cc. Ove...\n",
              "4  89d8c4f0-6fe0-4389-b1f8-913ba894c0f1  ...  Not getting otp for login since yesterday. Als...\n",
              "\n",
              "[5 rows x 4 columns]"
            ]
          },
          "metadata": {
            "tags": []
          },
          "execution_count": 126
        }
      ]
    },
    {
      "cell_type": "code",
      "metadata": {
        "id": "hh6dUanFrZfT",
        "colab_type": "code",
        "outputId": "d4429d86-e819-4071-a2a6-2d7e8aeb7e9a",
        "colab": {
          "base_uri": "https://localhost:8080/",
          "height": 34
        }
      },
      "source": [
        "train.shape"
      ],
      "execution_count": 0,
      "outputs": [
        {
          "output_type": "execute_result",
          "data": {
            "text/plain": [
              "(5693, 5)"
            ]
          },
          "metadata": {
            "tags": []
          },
          "execution_count": 54
        }
      ]
    },
    {
      "cell_type": "code",
      "metadata": {
        "id": "S4-_F5F4jmbU",
        "colab_type": "code",
        "outputId": "5e2e8800-0104-4729-bbc5-d3b88dd7cd9e",
        "colab": {
          "base_uri": "https://localhost:8080/",
          "height": 136
        }
      },
      "source": [
        "train.isnull().sum()"
      ],
      "execution_count": 0,
      "outputs": [
        {
          "output_type": "execute_result",
          "data": {
            "text/plain": [
              "id                     0\n",
              "App Version Code    1139\n",
              "App Version Name    1139\n",
              "Review Text            1\n",
              "Review Title        5091\n",
              "Star Rating            0\n",
              "dtype: int64"
            ]
          },
          "metadata": {
            "tags": []
          },
          "execution_count": 11
        }
      ]
    },
    {
      "cell_type": "code",
      "metadata": {
        "id": "aT9ktsVf8j9t",
        "colab_type": "code",
        "outputId": "99d0c00b-9cac-4680-b807-9a0b012b36e9",
        "colab": {
          "base_uri": "https://localhost:8080/",
          "height": 119
        }
      },
      "source": [
        "test.isnull().sum()"
      ],
      "execution_count": 0,
      "outputs": [
        {
          "output_type": "execute_result",
          "data": {
            "text/plain": [
              "id                     0\n",
              "App Version Code     273\n",
              "App Version Name     273\n",
              "Review Text            1\n",
              "Review Title        1244\n",
              "dtype: int64"
            ]
          },
          "metadata": {
            "tags": []
          },
          "execution_count": 112
        }
      ]
    },
    {
      "cell_type": "code",
      "metadata": {
        "id": "xE27Xx5Aj54K",
        "colab_type": "code",
        "outputId": "98ede99b-dec1-40f7-b064-5c8097c9cb7c",
        "colab": {
          "base_uri": "https://localhost:8080/",
          "height": 136
        }
      },
      "source": [
        "train.dtypes"
      ],
      "execution_count": 0,
      "outputs": [
        {
          "output_type": "execute_result",
          "data": {
            "text/plain": [
              "id                   object\n",
              "App Version Code    float64\n",
              "App Version Name    float64\n",
              "Review Text          object\n",
              "Review Title         object\n",
              "Star Rating           int64\n",
              "dtype: object"
            ]
          },
          "metadata": {
            "tags": []
          },
          "execution_count": 12
        }
      ]
    },
    {
      "cell_type": "code",
      "metadata": {
        "id": "B_pn-03nkg_T",
        "colab_type": "code",
        "outputId": "d27318f7-a73a-465c-ddd1-a8d87a936570",
        "colab": {
          "base_uri": "https://localhost:8080/",
          "height": 289
        }
      },
      "source": [
        "train.values"
      ],
      "execution_count": 0,
      "outputs": [
        {
          "output_type": "execute_result",
          "data": {
            "text/plain": [
              "array([['b817b0f0-a2f8-4c9d-a5f6-d3fbf8b1d7e9', nan, nan,\n",
              "        'Very bad wallet balance not use.', nan, 1],\n",
              "       ['c7844e8f-56c1-487b-ae3e-df2fdf4c1767', 43.0, 2.3,\n",
              "        'Froud app i recharge 199 but not done also send mail to niki even not replied',\n",
              "        nan, 1],\n",
              "       ['93ff57f7-9e02-4fa9-b779-3db82b8af0a4', 52.0, 2.12,\n",
              "        'Waste to write comments also', 'Waste no use', 2],\n",
              "       ...,\n",
              "       ['2289f5fd-5556-49f8-ab4f-ba5e99a1a50f', 68.0, 2.27,\n",
              "        \"I'm already a Lazypay account holder using same for ticket booking , Online food order , bus ticket but here it's not showing then what's the use of it?\",\n",
              "        nan, 2],\n",
              "       ['c11b87db-6e1d-4b52-ae1e-d759809ef2f0', 75.0, 2.34,\n",
              "        \"It's so easy to use, I'm just using and falling in love with this app, so many payment options to choose and offers are cheery on the top.\",\n",
              "        nan, 5],\n",
              "       ['0a4c9a2a-8510-4e1d-a5ba-bd30afbac09a', nan, nan, 'Good', nan, 5]],\n",
              "      dtype=object)"
            ]
          },
          "metadata": {
            "tags": []
          },
          "execution_count": 15
        }
      ]
    },
    {
      "cell_type": "code",
      "metadata": {
        "id": "dX_aK2kJlXil",
        "colab_type": "code",
        "outputId": "bb560c33-5a77-43d5-a60c-5ceaddb70583",
        "colab": {
          "base_uri": "https://localhost:8080/",
          "height": 624
        }
      },
      "source": [
        "train['App Version Code'].value_counts().plot(kind='bar',figsize=(20,10))"
      ],
      "execution_count": 0,
      "outputs": [
        {
          "output_type": "execute_result",
          "data": {
            "text/plain": [
              "<matplotlib.axes._subplots.AxesSubplot at 0x7f7b3ba83908>"
            ]
          },
          "metadata": {
            "tags": []
          },
          "execution_count": 22
        },
        {
          "output_type": "display_data",
          "data": {
            "image/png": "[encoded data removed]",
            "text/plain": [
              "<Figure size 1440x720 with 1 Axes>"
            ]
          },
          "metadata": {
            "tags": []
          }
        }
      ]
    },
    {
      "cell_type": "code",
      "metadata": {
        "id": "h6p7SAfMmOUp",
        "colab_type": "code",
        "outputId": "8d3e3515-d39a-420f-8b34-cd8c84a1a3f6",
        "colab": {
          "base_uri": "https://localhost:8080/",
          "height": 624
        }
      },
      "source": [
        "train['App Version Name'].value_counts().plot(kind='bar',figsize=(20,10))"
      ],
      "execution_count": 0,
      "outputs": [
        {
          "output_type": "execute_result",
          "data": {
            "text/plain": [
              "<matplotlib.axes._subplots.AxesSubplot at 0x7f7b3bcd3780>"
            ]
          },
          "metadata": {
            "tags": []
          },
          "execution_count": 23
        },
        {
          "output_type": "display_data",
          "data": {
            "image/png": "[encoded data removed]",
            "text/plain": [
              "<Figure size 1440x720 with 1 Axes>"
            ]
          },
          "metadata": {
            "tags": []
          }
        }
      ]
    },
    {
      "cell_type": "code",
      "metadata": {
        "id": "vnTDUWgEoIq1",
        "colab_type": "code",
        "outputId": "3cc434a4-96d1-4641-ee93-6fa7278efec2",
        "colab": {
          "base_uri": "https://localhost:8080/",
          "height": 34
        }
      },
      "source": [
        "train[(train['App Version Code']==75) & (train['Star Rating']==5)].shape"
      ],
      "execution_count": 0,
      "outputs": [
        {
          "output_type": "execute_result",
          "data": {
            "text/plain": [
              "(207, 6)"
            ]
          },
          "metadata": {
            "tags": []
          },
          "execution_count": 41
        }
      ]
    },
    {
      "cell_type": "code",
      "metadata": {
        "id": "9w4-uoN9YDSo",
        "colab_type": "code",
        "colab": {
          "base_uri": "https://localhost:8080/",
          "height": 300
        },
        "outputId": "e2f4fce3-14d0-4618-8d33-8c614a78438b"
      },
      "source": [
        "#fig, ax = plt.subplots(figsize=(15,7))\n",
        "train.groupby(['Star Rating','App Version Code','App Version Name']).count().plot()"
      ],
      "execution_count": 118,
      "outputs": [
        {
          "output_type": "execute_result",
          "data": {
            "text/plain": [
              "<matplotlib.axes._subplots.AxesSubplot at 0x7f92558dc8d0>"
            ]
          },
          "metadata": {
            "tags": []
          },
          "execution_count": 118
        },
        {
          "output_type": "display_data",
          "data": {
            "image/png": "[encoded data removed]",
            "text/plain": [
              "<Figure size 432x288 with 1 Axes>"
            ]
          },
          "metadata": {
            "tags": []
          }
        }
      ]
    },
    {
      "cell_type": "code",
      "metadata": {
        "id": "CCHb6putoXJl",
        "colab_type": "code",
        "colab": {}
      },
      "source": [
        "train.drop('Review Title',1,inplace=True)"
      ],
      "execution_count": 0,
      "outputs": []
    },
    {
      "cell_type": "code",
      "metadata": {
        "id": "5CAebMV-8x_6",
        "colab_type": "code",
        "colab": {}
      },
      "source": [
        "test.drop('Review Title',1,inplace=True)"
      ],
      "execution_count": 0,
      "outputs": []
    },
    {
      "cell_type": "code",
      "metadata": {
        "id": "K5gonu_1qejb",
        "colab_type": "code",
        "outputId": "8dafe975-feea-42ad-8a74-a96eaad14e7b",
        "colab": {
          "base_uri": "https://localhost:8080/",
          "height": 204
        }
      },
      "source": [
        "train.head()"
      ],
      "execution_count": 110,
      "outputs": [
        {
          "output_type": "execute_result",
          "data": {
            "text/html": [
              "<div>\n",
              "<style scoped>\n",
              "    .dataframe tbody tr th:only-of-type {\n",
              "        vertical-align: middle;\n",
              "    }\n",
              "\n",
              "    .dataframe tbody tr th {\n",
              "        vertical-align: top;\n",
              "    }\n",
              "\n",
              "    .dataframe thead th {\n",
              "        text-align: right;\n",
              "    }\n",
              "</style>\n",
              "<table border=\"1\" class=\"dataframe\">\n",
              "  <thead>\n",
              "    <tr style=\"text-align: right;\">\n",
              "      <th></th>\n",
              "      <th>id</th>\n",
              "      <th>App Version Code</th>\n",
              "      <th>App Version Name</th>\n",
              "      <th>Review Text</th>\n",
              "      <th>Star Rating</th>\n",
              "    </tr>\n",
              "  </thead>\n",
              "  <tbody>\n",
              "    <tr>\n",
              "      <th>0</th>\n",
              "      <td>b817b0f0-a2f8-4c9d-a5f6-d3fbf8b1d7e9</td>\n",
              "      <td>71</td>\n",
              "      <td>2</td>\n",
              "      <td>Very bad wallet balance not use.</td>\n",
              "      <td>1</td>\n",
              "    </tr>\n",
              "    <tr>\n",
              "      <th>1</th>\n",
              "      <td>c7844e8f-56c1-487b-ae3e-df2fdf4c1767</td>\n",
              "      <td>43</td>\n",
              "      <td>2</td>\n",
              "      <td>Froud app i recharge 199 but not done also sen...</td>\n",
              "      <td>1</td>\n",
              "    </tr>\n",
              "    <tr>\n",
              "      <th>2</th>\n",
              "      <td>93ff57f7-9e02-4fa9-b779-3db82b8af0a4</td>\n",
              "      <td>52</td>\n",
              "      <td>2</td>\n",
              "      <td>Waste to write comments also</td>\n",
              "      <td>2</td>\n",
              "    </tr>\n",
              "    <tr>\n",
              "      <th>3</th>\n",
              "      <td>df2dcdef-c09a-4f35-afab-e1231d3fec9a</td>\n",
              "      <td>62</td>\n",
              "      <td>2</td>\n",
              "      <td>Nice apo</td>\n",
              "      <td>5</td>\n",
              "    </tr>\n",
              "    <tr>\n",
              "      <th>4</th>\n",
              "      <td>11f8f968-4cec-4424-8427-9709ab05b5be</td>\n",
              "      <td>69</td>\n",
              "      <td>2</td>\n",
              "      <td>Good nice app</td>\n",
              "      <td>5</td>\n",
              "    </tr>\n",
              "  </tbody>\n",
              "</table>\n",
              "</div>"
            ],
            "text/plain": [
              "                                     id  ...  Star Rating\n",
              "0  b817b0f0-a2f8-4c9d-a5f6-d3fbf8b1d7e9  ...            1\n",
              "1  c7844e8f-56c1-487b-ae3e-df2fdf4c1767  ...            1\n",
              "2  93ff57f7-9e02-4fa9-b779-3db82b8af0a4  ...            2\n",
              "3  df2dcdef-c09a-4f35-afab-e1231d3fec9a  ...            5\n",
              "4  11f8f968-4cec-4424-8427-9709ab05b5be  ...            5\n",
              "\n",
              "[5 rows x 5 columns]"
            ]
          },
          "metadata": {
            "tags": []
          },
          "execution_count": 110
        }
      ]
    },
    {
      "cell_type": "code",
      "metadata": {
        "id": "fTLSwKvkapNP",
        "colab_type": "code",
        "colab": {
          "base_uri": "https://localhost:8080/",
          "height": 359
        },
        "outputId": "6a734365-40d8-4f19-8a5b-625a32de0fb3"
      },
      "source": [
        "test.head(10)"
      ],
      "execution_count": 123,
      "outputs": [
        {
          "output_type": "execute_result",
          "data": {
            "text/html": [
              "<div>\n",
              "<style scoped>\n",
              "    .dataframe tbody tr th:only-of-type {\n",
              "        vertical-align: middle;\n",
              "    }\n",
              "\n",
              "    .dataframe tbody tr th {\n",
              "        vertical-align: top;\n",
              "    }\n",
              "\n",
              "    .dataframe thead th {\n",
              "        text-align: right;\n",
              "    }\n",
              "</style>\n",
              "<table border=\"1\" class=\"dataframe\">\n",
              "  <thead>\n",
              "    <tr style=\"text-align: right;\">\n",
              "      <th></th>\n",
              "      <th>id</th>\n",
              "      <th>App Version Code</th>\n",
              "      <th>App Version Name</th>\n",
              "      <th>Review Text</th>\n",
              "    </tr>\n",
              "  </thead>\n",
              "  <tbody>\n",
              "    <tr>\n",
              "      <th>0</th>\n",
              "      <td>bdcb3129-afc1-4608-825f-558fe9c17e2b</td>\n",
              "      <td>78</td>\n",
              "      <td>2</td>\n",
              "      <td>Awesome app, all should use it</td>\n",
              "    </tr>\n",
              "    <tr>\n",
              "      <th>1</th>\n",
              "      <td>7518d5c8-5e35-45e2-b29d-cf0996ba9e2f</td>\n",
              "      <td>75</td>\n",
              "      <td>2</td>\n",
              "      <td>how can i stop notification</td>\n",
              "    </tr>\n",
              "    <tr>\n",
              "      <th>2</th>\n",
              "      <td>b21ca913-ba44-471b-91e1-aaf035379a84</td>\n",
              "      <td>70</td>\n",
              "      <td>2</td>\n",
              "      <td>This app is very easy to use , nice graphics ,...</td>\n",
              "    </tr>\n",
              "    <tr>\n",
              "      <th>3</th>\n",
              "      <td>beaaa17d-44af-44c8-ba38-24ba54c3b17d</td>\n",
              "      <td>83</td>\n",
              "      <td>2</td>\n",
              "      <td>Quite good but felt slow response from cc. Ove...</td>\n",
              "    </tr>\n",
              "    <tr>\n",
              "      <th>4</th>\n",
              "      <td>89d8c4f0-6fe0-4389-b1f8-913ba894c0f1</td>\n",
              "      <td>74</td>\n",
              "      <td>2</td>\n",
              "      <td>Not getting otp for login since yesterday. Als...</td>\n",
              "    </tr>\n",
              "    <tr>\n",
              "      <th>5</th>\n",
              "      <td>16e57197-186e-44ef-ac4c-6f6a13e787ee</td>\n",
              "      <td>37</td>\n",
              "      <td>1</td>\n",
              "      <td>What's different?</td>\n",
              "    </tr>\n",
              "    <tr>\n",
              "      <th>6</th>\n",
              "      <td>04a33480-0544-433d-af9d-e8c0777cadfb</td>\n",
              "      <td>83</td>\n",
              "      <td>2</td>\n",
              "      <td>This is very good but please provide some good...</td>\n",
              "    </tr>\n",
              "    <tr>\n",
              "      <th>7</th>\n",
              "      <td>5a5b705a-e3d8-4424-989c-05d078b6a461</td>\n",
              "      <td>70</td>\n",
              "      <td>2</td>\n",
              "      <td>Excellent,but niki credit amount is only 25% used</td>\n",
              "    </tr>\n",
              "    <tr>\n",
              "      <th>8</th>\n",
              "      <td>00aad18b-1960-464c-9334-0961a9f1d65c</td>\n",
              "      <td>75</td>\n",
              "      <td>2</td>\n",
              "      <td>Nice app</td>\n",
              "    </tr>\n",
              "    <tr>\n",
              "      <th>9</th>\n",
              "      <td>ce2a2f18-bfba-4430-afc5-be587a190d77</td>\n",
              "      <td>56</td>\n",
              "      <td>2</td>\n",
              "      <td>I didn't receive cashbook for first time DTH r...</td>\n",
              "    </tr>\n",
              "  </tbody>\n",
              "</table>\n",
              "</div>"
            ],
            "text/plain": [
              "                                     id  ...                                        Review Text\n",
              "0  bdcb3129-afc1-4608-825f-558fe9c17e2b  ...                     Awesome app, all should use it\n",
              "1  7518d5c8-5e35-45e2-b29d-cf0996ba9e2f  ...                        how can i stop notification\n",
              "2  b21ca913-ba44-471b-91e1-aaf035379a84  ...  This app is very easy to use , nice graphics ,...\n",
              "3  beaaa17d-44af-44c8-ba38-24ba54c3b17d  ...  Quite good but felt slow response from cc. Ove...\n",
              "4  89d8c4f0-6fe0-4389-b1f8-913ba894c0f1  ...  Not getting otp for login since yesterday. Als...\n",
              "5  16e57197-186e-44ef-ac4c-6f6a13e787ee  ...                                  What's different?\n",
              "6  04a33480-0544-433d-af9d-e8c0777cadfb  ...  This is very good but please provide some good...\n",
              "7  5a5b705a-e3d8-4424-989c-05d078b6a461  ...  Excellent,but niki credit amount is only 25% used\n",
              "8  00aad18b-1960-464c-9334-0961a9f1d65c  ...                                           Nice app\n",
              "9  ce2a2f18-bfba-4430-afc5-be587a190d77  ...  I didn't receive cashbook for first time DTH r...\n",
              "\n",
              "[10 rows x 4 columns]"
            ]
          },
          "metadata": {
            "tags": []
          },
          "execution_count": 123
        }
      ]
    },
    {
      "cell_type": "code",
      "metadata": {
        "id": "l7QLcTlRatgc",
        "colab_type": "code",
        "colab": {
          "base_uri": "https://localhost:8080/",
          "height": 359
        },
        "outputId": "03cd47b9-d7b1-4b5a-8aff-ac75f013416d"
      },
      "source": [
        "df.head(10)"
      ],
      "execution_count": 122,
      "outputs": [
        {
          "output_type": "execute_result",
          "data": {
            "text/html": [
              "<div>\n",
              "<style scoped>\n",
              "    .dataframe tbody tr th:only-of-type {\n",
              "        vertical-align: middle;\n",
              "    }\n",
              "\n",
              "    .dataframe tbody tr th {\n",
              "        vertical-align: top;\n",
              "    }\n",
              "\n",
              "    .dataframe thead th {\n",
              "        text-align: right;\n",
              "    }\n",
              "</style>\n",
              "<table border=\"1\" class=\"dataframe\">\n",
              "  <thead>\n",
              "    <tr style=\"text-align: right;\">\n",
              "      <th></th>\n",
              "      <th>Id</th>\n",
              "      <th>Star Rating</th>\n",
              "    </tr>\n",
              "  </thead>\n",
              "  <tbody>\n",
              "    <tr>\n",
              "      <th>0</th>\n",
              "      <td>bdcb3129-afc1-4608-825f-558fe9c17e2b</td>\n",
              "      <td>5</td>\n",
              "    </tr>\n",
              "    <tr>\n",
              "      <th>1</th>\n",
              "      <td>7518d5c8-5e35-45e2-b29d-cf0996ba9e2f</td>\n",
              "      <td>2</td>\n",
              "    </tr>\n",
              "    <tr>\n",
              "      <th>2</th>\n",
              "      <td>b21ca913-ba44-471b-91e1-aaf035379a84</td>\n",
              "      <td>5</td>\n",
              "    </tr>\n",
              "    <tr>\n",
              "      <th>3</th>\n",
              "      <td>beaaa17d-44af-44c8-ba38-24ba54c3b17d</td>\n",
              "      <td>5</td>\n",
              "    </tr>\n",
              "    <tr>\n",
              "      <th>4</th>\n",
              "      <td>89d8c4f0-6fe0-4389-b1f8-913ba894c0f1</td>\n",
              "      <td>1</td>\n",
              "    </tr>\n",
              "    <tr>\n",
              "      <th>5</th>\n",
              "      <td>16e57197-186e-44ef-ac4c-6f6a13e787ee</td>\n",
              "      <td>5</td>\n",
              "    </tr>\n",
              "    <tr>\n",
              "      <th>6</th>\n",
              "      <td>04a33480-0544-433d-af9d-e8c0777cadfb</td>\n",
              "      <td>3</td>\n",
              "    </tr>\n",
              "    <tr>\n",
              "      <th>7</th>\n",
              "      <td>5a5b705a-e3d8-4424-989c-05d078b6a461</td>\n",
              "      <td>1</td>\n",
              "    </tr>\n",
              "    <tr>\n",
              "      <th>8</th>\n",
              "      <td>00aad18b-1960-464c-9334-0961a9f1d65c</td>\n",
              "      <td>5</td>\n",
              "    </tr>\n",
              "    <tr>\n",
              "      <th>9</th>\n",
              "      <td>ce2a2f18-bfba-4430-afc5-be587a190d77</td>\n",
              "      <td>1</td>\n",
              "    </tr>\n",
              "  </tbody>\n",
              "</table>\n",
              "</div>"
            ],
            "text/plain": [
              "                                     Id  Star Rating\n",
              "0  bdcb3129-afc1-4608-825f-558fe9c17e2b            5\n",
              "1  7518d5c8-5e35-45e2-b29d-cf0996ba9e2f            2\n",
              "2  b21ca913-ba44-471b-91e1-aaf035379a84            5\n",
              "3  beaaa17d-44af-44c8-ba38-24ba54c3b17d            5\n",
              "4  89d8c4f0-6fe0-4389-b1f8-913ba894c0f1            1\n",
              "5  16e57197-186e-44ef-ac4c-6f6a13e787ee            5\n",
              "6  04a33480-0544-433d-af9d-e8c0777cadfb            3\n",
              "7  5a5b705a-e3d8-4424-989c-05d078b6a461            1\n",
              "8  00aad18b-1960-464c-9334-0961a9f1d65c            5\n",
              "9  ce2a2f18-bfba-4430-afc5-be587a190d77            1"
            ]
          },
          "metadata": {
            "tags": []
          },
          "execution_count": 122
        }
      ]
    },
    {
      "cell_type": "code",
      "metadata": {
        "id": "2HdUG9zCxKaI",
        "colab_type": "code",
        "outputId": "f803ad30-fc6e-4bd1-9394-00934a038e89",
        "colab": {
          "base_uri": "https://localhost:8080/",
          "height": 153
        }
      },
      "source": [
        "ip install impyute"
      ],
      "execution_count": 0,
      "outputs": [
        {
          "output_type": "stream",
          "text": [
            "Collecting impyute\n",
            "  Downloading https://files.pythonhosted.org/packages/37/28/86829f67c9affb847facaab94687761d3555539ec675f7577778c5b2680a/impyute-0.0.8-py2.py3-none-any.whl\n",
            "Requirement already satisfied: scipy in /usr/local/lib/python3.6/dist-packages (from impyute) (1.3.1)\n",
            "Requirement already satisfied: scikit-learn in /usr/local/lib/python3.6/dist-packages (from impyute) (0.21.3)\n",
            "Requirement already satisfied: numpy in /usr/local/lib/python3.6/dist-packages (from impyute) (1.16.4)\n",
            "Requirement already satisfied: joblib>=0.11 in /usr/local/lib/python3.6/dist-packages (from scikit-learn->impyute) (0.13.2)\n",
            "Installing collected packages: impyute\n",
            "Successfully installed impyute-0.0.8\n"
          ],
          "name": "stdout"
        }
      ]
    },
    {
      "cell_type": "code",
      "metadata": {
        "id": "5mETtXSrqkZq",
        "colab_type": "code",
        "colab": {}
      },
      "source": [
        "train['App Version Code'].fillna(train['App Version Code'].mean(),inplace=True)"
      ],
      "execution_count": 0,
      "outputs": []
    },
    {
      "cell_type": "code",
      "metadata": {
        "id": "U8EJvs1M9Dgc",
        "colab_type": "code",
        "colab": {}
      },
      "source": [
        "test['App Version Code'].fillna(test['App Version Code'].mean(),inplace=True)"
      ],
      "execution_count": 0,
      "outputs": []
    },
    {
      "cell_type": "code",
      "metadata": {
        "id": "095_bY09rwML",
        "colab_type": "code",
        "colab": {}
      },
      "source": [
        "train['App Version Name'].fillna(train['App Version Name'].mean(),inplace=True)"
      ],
      "execution_count": 0,
      "outputs": []
    },
    {
      "cell_type": "code",
      "metadata": {
        "id": "y-8sa-mc9Hkb",
        "colab_type": "code",
        "colab": {}
      },
      "source": [
        "test['App Version Name'].fillna(test['App Version Name'].mean(),inplace=True)"
      ],
      "execution_count": 0,
      "outputs": []
    },
    {
      "cell_type": "code",
      "metadata": {
        "id": "tzGPv4bMyFsV",
        "colab_type": "code",
        "outputId": "4305a72f-080c-4dc0-e171-b8c86434a284",
        "colab": {
          "base_uri": "https://localhost:8080/",
          "height": 204
        }
      },
      "source": [
        "train.head()"
      ],
      "execution_count": 0,
      "outputs": [
        {
          "output_type": "execute_result",
          "data": {
            "text/html": [
              "<div>\n",
              "<style scoped>\n",
              "    .dataframe tbody tr th:only-of-type {\n",
              "        vertical-align: middle;\n",
              "    }\n",
              "\n",
              "    .dataframe tbody tr th {\n",
              "        vertical-align: top;\n",
              "    }\n",
              "\n",
              "    .dataframe thead th {\n",
              "        text-align: right;\n",
              "    }\n",
              "</style>\n",
              "<table border=\"1\" class=\"dataframe\">\n",
              "  <thead>\n",
              "    <tr style=\"text-align: right;\">\n",
              "      <th></th>\n",
              "      <th>id</th>\n",
              "      <th>App Version Code</th>\n",
              "      <th>App Version Name</th>\n",
              "      <th>Review Text</th>\n",
              "      <th>Star Rating</th>\n",
              "    </tr>\n",
              "  </thead>\n",
              "  <tbody>\n",
              "    <tr>\n",
              "      <th>0</th>\n",
              "      <td>b817b0f0-a2f8-4c9d-a5f6-d3fbf8b1d7e9</td>\n",
              "      <td>71.250329</td>\n",
              "      <td>2.290832</td>\n",
              "      <td>Very bad wallet balance not use.</td>\n",
              "      <td>1</td>\n",
              "    </tr>\n",
              "    <tr>\n",
              "      <th>1</th>\n",
              "      <td>c7844e8f-56c1-487b-ae3e-df2fdf4c1767</td>\n",
              "      <td>43.000000</td>\n",
              "      <td>2.300000</td>\n",
              "      <td>Froud app i recharge 199 but not done also sen...</td>\n",
              "      <td>1</td>\n",
              "    </tr>\n",
              "    <tr>\n",
              "      <th>2</th>\n",
              "      <td>93ff57f7-9e02-4fa9-b779-3db82b8af0a4</td>\n",
              "      <td>52.000000</td>\n",
              "      <td>2.120000</td>\n",
              "      <td>Waste to write comments also</td>\n",
              "      <td>2</td>\n",
              "    </tr>\n",
              "    <tr>\n",
              "      <th>3</th>\n",
              "      <td>df2dcdef-c09a-4f35-afab-e1231d3fec9a</td>\n",
              "      <td>62.000000</td>\n",
              "      <td>2.210000</td>\n",
              "      <td>Nice apo</td>\n",
              "      <td>5</td>\n",
              "    </tr>\n",
              "    <tr>\n",
              "      <th>4</th>\n",
              "      <td>11f8f968-4cec-4424-8427-9709ab05b5be</td>\n",
              "      <td>69.000000</td>\n",
              "      <td>2.280000</td>\n",
              "      <td>Good nice app</td>\n",
              "      <td>5</td>\n",
              "    </tr>\n",
              "  </tbody>\n",
              "</table>\n",
              "</div>"
            ],
            "text/plain": [
              "                                     id  ...  Star Rating\n",
              "0  b817b0f0-a2f8-4c9d-a5f6-d3fbf8b1d7e9  ...            1\n",
              "1  c7844e8f-56c1-487b-ae3e-df2fdf4c1767  ...            1\n",
              "2  93ff57f7-9e02-4fa9-b779-3db82b8af0a4  ...            2\n",
              "3  df2dcdef-c09a-4f35-afab-e1231d3fec9a  ...            5\n",
              "4  11f8f968-4cec-4424-8427-9709ab05b5be  ...            5\n",
              "\n",
              "[5 rows x 5 columns]"
            ]
          },
          "metadata": {
            "tags": []
          },
          "execution_count": 177
        }
      ]
    },
    {
      "cell_type": "code",
      "metadata": {
        "id": "updknI6gyIRL",
        "colab_type": "code",
        "colab": {}
      },
      "source": [
        "train.dropna(inplace=True)"
      ],
      "execution_count": 0,
      "outputs": []
    },
    {
      "cell_type": "code",
      "metadata": {
        "id": "QSdXf4hw9VXL",
        "colab_type": "code",
        "colab": {}
      },
      "source": [
        "test.dropna(inplace=True)"
      ],
      "execution_count": 0,
      "outputs": []
    },
    {
      "cell_type": "code",
      "metadata": {
        "id": "G57REkScyV3j",
        "colab_type": "code",
        "outputId": "92693e00-7474-4d2b-acda-c874c5539197",
        "colab": {
          "base_uri": "https://localhost:8080/",
          "height": 119
        }
      },
      "source": [
        "train.isnull().sum()"
      ],
      "execution_count": 0,
      "outputs": [
        {
          "output_type": "execute_result",
          "data": {
            "text/plain": [
              "id                  0\n",
              "App Version Code    0\n",
              "App Version Name    0\n",
              "Review Text         0\n",
              "Star Rating         0\n",
              "dtype: int64"
            ]
          },
          "metadata": {
            "tags": []
          },
          "execution_count": 180
        }
      ]
    },
    {
      "cell_type": "code",
      "metadata": {
        "id": "gHmk7AFw9NST",
        "colab_type": "code",
        "outputId": "cb90efcd-fa0e-4da0-ddf8-5bd4d5b28178",
        "colab": {
          "base_uri": "https://localhost:8080/",
          "height": 102
        }
      },
      "source": [
        "test.isnull().sum()"
      ],
      "execution_count": 0,
      "outputs": [
        {
          "output_type": "execute_result",
          "data": {
            "text/plain": [
              "id                  0\n",
              "App Version Code    0\n",
              "App Version Name    0\n",
              "Review Text         0\n",
              "dtype: int64"
            ]
          },
          "metadata": {
            "tags": []
          },
          "execution_count": 181
        }
      ]
    },
    {
      "cell_type": "code",
      "metadata": {
        "id": "kAzey2BOyhvk",
        "colab_type": "code",
        "outputId": "e5703b1c-3393-4b25-e45e-75d1b9d1fa07",
        "colab": {
          "base_uri": "https://localhost:8080/",
          "height": 54
        }
      },
      "source": [
        "X=train['Review Text']\n",
        "vectorizer = CountVectorizer()\n",
        "vectorizer.fit(X)\n",
        "print(vectorizer.vocabulary_)"
      ],
      "execution_count": 0,
      "outputs": [
        {
          "output_type": "stream",
          "text": [
            "{'very': 4737, 'bad': 709, 'wallet': 4786, 'balance': 731, 'not': 3057, 'use': 4674, 'froud': 1955, 'app': 575, 'recharge': 3580, '199': 115, 'but': 962, 'done': 1549, 'also': 508, 'send': 3977, 'mail': 2773, 'to': 4475, 'niki': 3040, 'even': 1711, 'replied': 3714, 'waste': 4799, 'write': 4917, 'comments': 1164, 'nice': 3030, 'apo': 574, 'good': 2052, 'ghatiya': 2020, 'bill': 847, 'fetch': 1841, 'nhi': 3026, 'hota': 2251, 'they': 4406, 'showed': 4026, 'successful': 4237, 'didn': 1488, 'got': 2065, 'this': 4418, 'is': 2448, 'for': 1903, 'and': 536, 'electric': 1645, 'payment': 3225, 'worst': 4903, 'never': 3019, 'had': 2116, 'seen': 3967, 'before': 790, 'superb': 4263, 'selecting': 3971, 'upw': 4665, 'as': 615, 'circle': 1115, 'it': 2462, 'only': 3117, 'shows': 4029, 'karnataka': 2538, 'or': 3142, 'mumbai': 2969, 'refer': 3634, 'hum': 2273, 'kar': 2536, 'hi': 2209, 'nahi': 2980, 'payenge': 3220, 'aapke': 383, 'product': 3408, 'ke': 2545, 'liye': 2698, 'jbl': 2495, 'earphone': 1614, 'apps': 597, 'excellent': 1731, 'super': 4262, 'aswm': 636, 'working': 4896, 'properly': 3441, 'aap': 381, 'well': 4829, 'just': 2523, 'love': 2734, 'that': 4386, 'all': 498, 'could': 1287, 'say': 3917, 'so': 4091, 'far': 1809, 'am': 514, 'happy': 2142, 'amazing': 517, 'assistant': 630, 'makes': 2784, 'work': 4893, 'easier': 1619, 'non': 3051, 'sense': 3980, 'no': 3046, 'confirmation': 1216, 'of': 3091, 'payments': 3226, 'money': 2933, 'debits': 1391, 'experience': 1759, 'yesterday': 4945, 'one': 3112, 'via': 4742, 'amazon': 520, 'pay': 3213, 'till': 4451, 'received': 3571, 'cashback': 1018, 'customer': 1340, 'support': 4278, 'awesome': 686, 'annoying': 545, 'when': 4839, 'you': 4949, 'try': 4561, 'make': 2781, 'transaction': 4522, 'other': 3152, 'number': 3074, 'rather': 3535, 'than': 4377, 'registered': 3676, 'then': 4399, 'doesn': 1544, 'detect': 1464, 'if': 2302, 'type': 4585, '100': 10, 'times': 4457, 'who': 4847, 'has': 2156, 'much': 2963, 'time': 4452, 'do': 1540, 'guys': 2103, 'are': 602, 'really': 3561, 'silly': 4041, 'such': 4244, 'stupid': 4217, 'bot': 912, 'friendly': 1943, 'thank': 4378, 'best': 818, 'graphical': 2077, 'coustomer': 1301, 'interface': 2417, 'feel': 1833, 'stress': 4207, 'about': 402, 'my': 2975, 'refund': 3664, 'which': 4844, 'have': 2167, 'electricity': 1646, 'was': 4795, 'payed': 3218, 'by': 970, 'new': 3020, 'amount': 527, 'larger': 2624, 'because': 782, 'previous': 3387, 'add': 447, 'on': 3109, 'fraud': 1920, 'don': 1548, 'give': 2028, 'the': 4390, 'committed': 1171, 'beware': 828, 'installing': 2389, 'using': 4688, 'waiting': 4780, 'more': 2942, 'services': 3995, 'ai': 480, 'assumes': 632, 'same': 3884, 'details': 1462, 'every': 1718, 'phone': 3276, 'there': 4401, 'option': 3140, 'changing': 1057, 'whole': 4848, 'in': 2337, 'chat': 1070, 'able': 398, 'book': 898, 'any': 552, 'bus': 957, 'kind': 2569, 'online': 3116, 'personal': 3261, 'fake': 1795, 'broadband': 931, 'need': 3007, 'be': 773, 'expanded': 1751, 'airtel': 486, 'operators': 3129, 'casback': 1010, 'cheaters': 1081, 'credits': 1321, 'booking': 901, 'blocked': 872, 'from': 1953, 'jio': 2503, '15': 74, 'pe': 3235, 'fail': 1788, 'refun': 3663, 'like': 2679, 'paid': 3179, 'today': 4477, 'succes': 4233, 'haven': 2168, 'unable': 4606, 'reach': 3544, 'at': 637, 'providing': 3459, 'customers': 1341, 'service': 3993, 'provider': 3456, 'please': 3310, 'respond': 3747, 'asap': 616, 'recharged': 3581, 'been': 788, 'past': 3206, '36': 212, 'hours': 2257, 'still': 4192, 'processed': 3406, 'refunded': 3666, 'does': 1543, 'ye': 4941, 'bilkul': 846, 'bekar': 803, 'cash': 1015, 'back': 706, 'deta': 1460, 'our': 3157, 'jyada': 2526, 'recharje': 3588, 'leta': 2654, 'hai': 2118, 'thenx': 4400, 'bakwas': 725, 'recent': 3573, 'drop': 1576, 'price': 3391, 'sale': 3878, 'giving': 2031, 'them': 4397, 'free': 1928, 'tariffs': 4325, 'contest': 1245, 'edit': 1627, 'know': 2584, 'terms': 4361, 'conditions': 1211, 'cheat': 1078, 'people': 3244, 'increase': 2346, 'your': 4950, 'will': 4861, 'get': 2015, 'due': 1583, 'nonsense': 3053, 'fool': 1898, 'their': 4395, 'offers': 3097, 'did': 1487, 'postpaid': 3357, 'mobile': 2915, 'through': 4434, 'somehow': 4106, '1st': 123, 'failed': 1790, 'again': 471, 'now': 3068, 'saying': 3918, 'won': 4880, 'since': 4051, 'offer': 3094, 'uninstalled': 4622, 'care': 1005, 'raely': 3504, 'wonderful': 4883, 'assisting': 631, 'me': 2830, 'recharges': 3585, 'hassle': 2159, 'what': 4834, 'an': 535, 'idea': 2293, 'sir': 4056, 'ji': 2499, 'thumbs': 4440, 'up': 4646, 'great': 2080, 'under': 4613, 'roof': 3824, 'quick': 3493, 'responsive': 3755, 'take': 4313, 'convenient': 1257, 'many': 2801, 'complication': 1200, 'cant': 997, 'manual': 2799, 'hopeless': 2246, 'redeem': 3615, 'full': 1965, 'nikiai': 3041, 'better': 825, 'paypal': 3228, 'bought': 919, 'gift': 2022, 'card': 1003, 'didnt': 1490, 'savea': 3909, 'effort': 1633, 'sandeep289': 3890, 'referral': 3642, 'id': 2291, 'rs': 3830, '10': 9, 'sign': 4037, 'benefits': 811, 'hear': 2181, 'yourstory': 4952, 'com': 1152, 'its': 2467, 'kuddos': 2602, '75': 307, 'paying': 3222, 'with': 4869, 'later': 2627, 'cheating': 1082, 'provide': 3454, 'future': 1977, 'used': 4675, 'bills': 855, 'would': 4913, 'definitely': 1420, 'easy': 1622, 'durable': 1595, 'wow': 4915, 'solved': 4101, 'problem': 3400, 'third': 4417, 'party': 3198, 'expeience': 1756, 'yet': 4946, 'wrong': 4922, 'refunding': 3667, 'early': 1609, 'recomand': 3599, 'friends': 1944, 'team': 4335, 'somthing': 4113, 'available': 670, 'uppcl': 4662, 'marchant': 2803, 'hope': 2243, 'come': 1156, 'soon': 4117, 'think': 4415, 'revolutionise': 3785, 'todays': 4478, 'shopping': 4019, 'marketing': 2807, 'activity': 443, 'simple': 4045, 'texting': 4369, 'getting': 2017, 'orders': 3147, 'frod': 1952, 'fantastic': 1807, 'ticket': 4445, 'websites': 4821, 'deducted': 1411, '399': 220, 'response': 3751, 'too': 4485, 'yes': 4944, 'first': 1871, 'months': 2936, 'after': 468, 'flash': 1880, 'code': 1143, 'seems': 3966, 'users': 4683, 'sucks': 4245, 'everything': 1722, 'except': 1732, 'some': 4104, 'billers': 849, 'bsnl': 940, 'landline': 2620, 'mp': 2952, 'paschim': 3200, 'kshetra': 2597, 'indore': 2358, 'aren': 605, 'present': 3384, 'currently': 1336, 'change': 1054, 'ever': 1716, 'ra': 3502, '1050': 18, 'shown': 4028, 'successfully': 4239, 'showing': 4027, 'mseb': 2956, 'portal': 3346, 'already': 507, 'days': 1370, 'were': 4831, 'reflect': 3656, 'date': 1363, 'replying': 3717, 'february': 1827, 'account': 420, 'making': 2785, '1800': 103, 'cahrged': 979, 'extra': 1769, 'fees': 1836, 'gateway': 1988, 'charges': 1065, 'each': 1604, 'takes': 4315, 'ordering': 3146, 'level': 2659, 'beauty': 778, 'bakwaas': 724, 'server': 3991, 'down': 1564, 'charging': 1066, 'convenience': 1256, 'fee': 1829, 'mean': 2832, 'these': 4405, 'hidden': 2210, 'loot': 2724, 'doing': 1547, 'face': 1778, 'problems': 3401, 'concern': 1207, 'specific': 4135, 'transactions': 4523, '2nd': 186, 'tym': 4584, 'totally': 4496, 'froad': 1951, 'mila': 2879, 'na': 2977, 'earn': 1610, 'ka': 2527, 'pesa': 3267, 'thnq': 4422, 'introduing': 2428, 'laundry': 2630, 'call': 981, 'center': 1038, 'risky': 3806, 'wanted': 4789, 'postpone': 3359, 'works': 4897, 'charm': 1067, 'thanks': 4380, 'application': 582, 'reply': 3716, 'quire': 3497, 'tickets': 4447, 'fast': 1812, 'start': 4173, '20': 124, 'stop': 4197, 'restart': 3757, 'thought': 4429, 'ui': 4602, 'can': 988, 'improve': 2328, 'otherwise': 3154, 'discount': 1519, 'should': 4024, 'vivo': 4766, 'aaps': 387, 'maine': 2778, 'kharide': 2562, 'receive': 3570, 'cashbacks': 1019, 'section': 3957, 'without': 4874, 'entering': 1687, 'promo': 3425, 'codes': 1144, 'notification': 3064, 'kindly': 2571, 'email': 1656, 'way': 4812, 'complicated': 1199, 'move': 2949, 'appreciates': 592, 'offline': 3101, 'usefully': 4678, 'star': 4171, 'resolved': 3740, 'query': 3487, 'instantly': 2392, 'frndz': 1949, 'download': 1565, 'garbage': 1986, 'rc': 3540, 'asking': 621, 'dc': 1371, 'cc': 1033, 'paytm': 3230, 'genuine': 2012, 'navaneeth2': 2996, 'bonus': 897, 'stay': 4181, 'away': 684, 'gd': 1998, 'sure': 4288, 'why': 4854, 'hating': 2164, 'almost': 503, '20k': 140, 'few': 1844, 'fixed': 1878, 'how': 2259, 'actually': 445, 'pretty': 3386, 'order': 3143, 'lv': 2749, 'ur': 4667, 'mb': 2825, 'downloading': 1568, 'most': 2945, 'useless': 4680, 've': 4723, 'install': 2386, 'always': 513, 'show': 4025, 'error': 1698, 'final': 1857, 'stage': 4168, 'sorry': 4121, 'we': 4816, 'process': 3405, 'invalid': 2431, 'ok': 3104, 'smart': 4081, 'attractive': 653, 'enough': 1684, 'availed': 671, 'easily': 1621, 'couldn': 1288, 'open': 3122, 'missed': 2903, 'out': 3158, '50': 258, 'debit': 1388, 'cheater': 1080, 'dont': 1555, 'crashes': 1310, 'during': 1597, 'registration': 3678, 'provided': 3455, 'runs': 3848, 'ha': 2112, 'boaring': 884, 'gives': 2030, 'frd': 1926, 'useful': 4676, 'tata': 4330, 'sponsored': 4153, 'hell': 2190, 'vth': 4774, 'developers': 1470, 'worth': 4908, 'absolutely': 404, 'facing': 1784, 'issues': 2460, 'stuck': 4214, 'wallets': 4787, 'everytime': 1724, 'gets': 2016, 'poor': 3337, '150': 75, 'recieve': 3593, 'supeeeeeerb': 4261, 'cab': 976, 'technical': 4337, 'minute': 2897, 'chatting': 1075, 'loved': 2735, 'kudos': 2603, 'she': 4015, 'solves': 4102, 'crucial': 1328, 'purchasing': 3472, 'lightning': 2677, 'speed': 4139, '2g': 181, 'cost': 1282, 'comparison': 1182, 'accross': 424, 'companies': 1178, 'needed': 3008, 'plain': 3299, 'text': 4367, 'straightforward': 4206, 'bullshit': 953, 'goori0': 2064, 'giri3': 2025, 'saving': 3913, 'slow': 4075, 'unresponsive': 4639, 'cool': 1270, 'words': 4891, 'less': 2651, 'gy': 2108, 'immense': 2314, 'potential': 3360, 'dowmload': 1563, 'taken': 4314, 'keep': 2546, 'helpful': 2196, 'automated': 664, 'interactive': 2411, 'per': 3246, 'human': 2274, 'requirements': 3729, 'daily': 1352, 'life': 2673, 'consuming': 1239, 'mark': 2805, 'looted': 2725, 'gud': 2094, 'grt': 2090, 'going': 2045, 'man': 2789, 'talking': 4318, 'friend': 1941, 'max': 2820, 'user': 4682, 'recharging': 3586, 'freely': 1932, '1000': 11, 'plus': 3317, 'lazy': 2634, 'recovery': 3607, 'real': 3557, 'fst': 1961, 'saurav89': 3907, 'instant': 2391, '30': 189, 'ashoksn': 617, 'signup': 4039, 'must': 2973, 'mm': 2908, 'integrated': 2400, 'google': 2059, 'rock': 3818, '200': 125, 'disappeared': 1512, 'anything': 555, 'validity': 4713, 'brought': 935, '250': 160, 'buy': 965, 'cards': 1004, 'here': 2205, 'coustmer': 1300, 'over': 3161, 'prepaid': 3383, 'day': 1368, 'beautiful': 777, 'bank': 743, 'placed': 3297, 'heard': 2182, 'terrible': 4362, 'phonepe': 3278, 'bescom': 817, 'declined': 1401, 'twice': 4578, 'debited': 1389, 'wait': 4778, 'integration': 2401, 'movie': 2950, 'air': 483, 'figure': 1849, 'train': 4513, 'apspdcl': 600, 'asked': 620, 'plans': 3301, 'mobilw': 2917, 'asks': 622, 'plan': 3300, 'finger': 1864, 'tip': 4461, 'backs': 707, 'programme': 3415, 'trasaction': 4534, 'hotels': 2254, 'ang': 540, 'valid': 4708, 'expired': 1763, 'live': 2695, 'unexpected': 4618, 'errors': 1699, 'installed': 2388, 'utility': 4697, 'options': 3141, 'elsewhere': 1652, 'see': 3962, 'nikki': 3042, 'understand': 4614, 'feature': 1823, 'exciting': 1736, 'osm': 3150, 'bal': 729, 'rech': 3576, 'dth': 1579, 'force': 1904, 'gmail': 2037, 'login': 2712, 'allowed': 500, 'enter': 1685, 'hard': 2148, 'lot': 2731, 'fails': 1792, 'right': 3801, 'though': 4428, 'coz': 1306, 'thru': 4437, 'zero': 4959, 'wider': 4857, 'scope': 3929, 'improvement': 2330, 'success': 4236, 'ratio': 3538, 'speediness': 4140, 'overall': 3162, 'supar': 4259, 'okk': 3106, 'once': 3110, 'long': 2715, 'review': 3778, 'complaints': 1190, 'anymore': 553, 'scam': 3922, 'vodafone': 4767, 'says': 3919, 'contacted': 1242, 'go': 2039, 'normal': 3056, 'mode': 2921, 'bed': 787, 'vai': 4706, 'want': 4788, 'fill': 1853, 'another': 546, 'choose': 1102, 'operator': 3128, 'case': 1012, 'system': 4304, 'auto': 662, 'correct': 1278, 'permission': 3255, 'things': 4414, 'brilliant': 926, 'recommendation': 3602, 'hoping': 2247, 'lost': 2730, 'mailed': 2775, 'wasted': 4800, 'fare': 1810, 'starting': 4175, 'booked': 899, 'seat': 3948, 'total': 4495, '1827': 106, 'perfect': 3248, 'grivience': 2085, 'redressel': 3622, 'proper': 3440, 'nd': 3000, '1hr': 118, 'isn': 2454, 'dis': 1510, 'tolerable': 4481, 'implementation': 2317, '1080': 21, 'ca': 975, '151559009': 79, 'arrears': 612, '15sept': 86, '449': 240, 'phonpe': 3280, 'completed': 1193, 'iam': 2288, 'receiving': 3572, 'thisvapp': 4419, 'fix': 1877, 'se': 3941, 'pahle': 3177, 'laga': 2613, 'kya': 2606, 'bakwash': 726, 'pahli': 3178, 'bar': 750, 'esse': 1704, 'postpad': 3355, 'diya': 1536, 'pata': 3208, 'chala': 1047, 'smpl': 4087, 'epaylater': 1690, 'sath': 3898, 'nothing': 3062, 'niceeeeeeeeeee': 3032, 'playing': 3306, 'emotions': 1663, 'side': 4035, 'pathetic': 3209, 'failure': 1793, 'emails': 1659, 'resolution': 3737, 'weeks': 4826, 'locked': 2707, 'calls': 984, 'trying': 4562, 'guess': 2095, 'kept': 2549, 'typing': 4588, 'sunday': 4256, 'afternoon': 469, 'sometimes': 4110, 'gave': 1990, 'menu': 2854, 'quite': 3499, 'disappointing': 1514, 'bakwass': 727, 'haptik': 2143, 'sooo': 4118, 'understands': 4616, 'typo': 4589, 'answers': 551, 'correctly': 1280, 'unlike': 4630, 'clean': 1124, 'coupon': 1295, 'sandeep1881': 3889, 'lovely': 2737, 'stopped': 4199, 'everymonth': 1720, 'added': 448, '5000': 260, 'changed': 1055, 'term': 4360, 'condition': 1210, 'reffering': 3652, 'exlent': 1748, 'hh': 2208, 'refral': 3661, 'fridns': 1940, 'above': 403, 'credit': 1318, 'cheter': 1093, 'flipkart': 1888, '10000': 12, '9500': 358, 'cheated': 1079, 'mentioned': 2853, '10rs': 26, 'pays': 3229, 'surely': 4289, 'within': 4873, 'seconds': 3955, 'loving': 2738, 'anyone': 554, 'believes': 806, 'gonna': 2051, 're': 3543, 'banners': 747, 'bakwasss': 728, 'purchased': 3470, '24': 154, 'delivered': 1433, 'address': 454, 'while': 4846, 'others': 3153, 'deliver': 1432, 'communicate': 1173, 'staffs': 4167, 'help': 2192, 'may': 2822, 'otp': 3156, 'display': 1528, 'dish': 1525, 'tv': 4575, 'downlode': 1570, 'fraudulent': 1923, 'bloody': 875, 'spammers': 4131, 'tried': 4545, '360': 213, 'everyone': 1721, 'lose': 2728, 'earned': 1611, 'reporting': 3720, 'play': 3305, 'store': 4202, 'consumer': 1236, 'forum': 1912, 'immediately': 2312, 'okay': 3105, 'fine': 1862, 'plz': 3318, 'efficient': 1632, 'satisfied': 3902, 'etc': 1708, 'mallikarjun44': 2786, 'according': 418, 'tnc': 4470, 'credited': 1319, 'ultimately': 4604, 'helpfull': 2197, 'mst': 2960, 'burger': 956, 'huge': 2270, 'conveniance': 1255, 'run': 3846, 'fools': 1901, 'discounts': 1520, 'voucher': 4772, 'late': 2626, 'march': 2802, '26': 163, 'ask': 619, 'given': 2029, 'answer': 549, 'last': 2625, 'purchase': 3469, 'kk': 2581, 'uninstalling': 4623, 'dear': 1382, 'taking': 4316, 'surcharge': 4286, 'buying': 968, 'local': 2704, 'deal': 1377, 'uninstall': 4621, 'switch': 4299, 'difficult': 1495, 'locate': 2705, 'bit': 860, 'higher': 2214, 'respective': 3745, 'telecom': 4345, 'rest': 3756, 'completes': 1195, 'benefit': 810, 'uses': 4684, 'expecting': 1755, 'coming': 1160, 'cashbck': 1023, 'effective': 1631, 'duniya': 1593, 'having': 2170, 'power': 3361, 'dissatisfied': 1532, '10th': 27, 'feb': 1826, '474': 245, 'disgusting': 1524, 'deals': 1379, 'alternative': 510, 'deserve': 1448, 'chance': 1053, 'tested': 4365, 'into': 2422, 'chatbot': 1072, 'company': 1179, 'search': 3946, 'ample': 532, 'types': 4587, 'promotional': 3433, 'sreekanth32': 4158, 'enjoy': 1681, 'rupees': 3851, 'iss': 2456, 'experiences': 1761, 'constantly': 1233, 'thrice': 4432, 'happen': 2137, 'rating': 3536, 'reason': 3563, 'ajmer': 490, 'vidhyut': 4749, 'vitaran': 4764, 'nigam': 3035, 'limited': 2686, 'avvnl': 677, 'list': 2690, 'major': 2780, 'board': 881, 'rajsthan': 3523, '5star': 280, 'adding': 451, 'boards': 883, 'trip': 4549, 'feku': 1838, 'sry': 4161, 'pls': 3316, 'couldnt': 1289, 'job': 2509, 'high': 2213, 'frequency': 1936, 'wrost': 4924, 'chor': 1104, 'ko': 2586, 'karne': 2539, 'wala': 4783, 'sakta': 3874, 'buycutt': 966, 'retrying': 3766, 'status': 4180, 'responding': 3749, 'pleaee': 3308, 'risk': 3805, 'create': 1313, 'profile': 3412, 'name': 2986, 'solve': 4100, 'issue': 2458, 'adds': 457, 'instagram': 2384, 'those': 4427, 'mention': 2851, 'anywhere': 560, 'wasting': 4802, 'engine': 1675, 'warking': 4793, 'socksase': 4095, 'wrote': 4925, 'defeat': 1417, 'applications': 583, 'refferl': 3653, 'vikaram': 4758, 'select': 3969, 'default': 1416, 'put': 3478, 'rediculous': 3620, 'permit': 3257, 'srikanth20': 4159, 'helps': 2201, 'trustful': 4559, 'hrs': 2264, 'contact': 1241, 'point': 3325, 'whr': 4851, 'hv': 2284, 'bil': 845, 'repeating': 3711, 'msg': 2958, 'messaging': 2866, 'reaching': 3551, '86966': 332, '13': 54, 'raising': 3515, 'satisfactory': 3901, 'further': 1976, 'discussion': 1522, 'telling': 4349, '146': 66, 'plzz': 3319, 'raise': 3513, '117410': 35, 'ths': 4438, 'surprised': 4291, 'instead': 2393, 'voice': 4770, 'abandoning': 391, 'simply': 4050, 'touches': 4501, 'action': 438, 'becomes': 784, 'activated': 439, 'costumer': 1286, 'complaint': 1189, 'request': 3722, 'little': 2694, 'addition': 452, 'nearby': 3004, 'faster': 1813, 'interesting': 2416, 'delhi': 1430, 'jal': 2482, 'validation': 4712, 'despite': 1456, 'entered': 1686, 'month': 2934, 'mere': 2859, 'sth': 4188, '151': 78, 'kat': 2543, 'leya': 2661, 'recharj': 3587, 'fro': 1950, 'youu': 4953, 'muchhh': 2964, 'thing': 4413, 'v2': 4701, 'version': 4734, 'cancel': 989, 'button': 964, 'revert': 3776, 'features': 1825, 'bugs': 949, 'chap': 1060, 'forever': 1906, 'invite': 2434, 'dalnah': 1357, 'keeps': 2548, 'half': 2121, 'hour': 2256, 'intalling': 2398, 'fun': 1968, 'update': 4650, 'mat': 2813, 'karo': 2540, 'exp': 1749, 'week': 4823, 'vouchers': 4773, 'regarding': 3673, 'attached': 645, 'joi': 2512, 'came': 986, 'kull': 2604, 'fharji': 1847, 'pure': 3474, '448': 239, 'appele': 579, 'indian': 2355, 'form': 1909, 'upbhogta': 4648, '72': 303, 'greater': 2082, 'blocking': 873, 'processing': 3407, 'referred': 3644, 'he': 2176, 'his': 2225, 'both': 913, 'us': 4671, '2016': 130, 'luck': 2743, 'authorize': 660, 'ola': 3107, 'uber': 4595, 'expriyance': 1767, 'worast': 4889, 'coupan': 1293, 'apply': 585, 'recieved': 3594, 'ate': 640, 'writing': 4919, 'cannot': 996, 'pick': 3285, 'english': 1676, 'sentences': 3983, 'tsspdcl': 4564, 'complete': 1192, 'concept': 1205, 'sending': 3978, 'multiple': 2967, 'pending': 3241, '48': 247, 'yak': 4939, 'message': 2863, 'operater': 3126, 'stilled': 4193, '50rs': 265, 'gre': 2079, 'faltu': 1802, '2day': 179, 'suggest': 4251, 'promising': 3423, 'sadly': 3865, 'fancy': 1805, 'worthy': 4910, 'earning': 1612, 'hathway': 2163, 'brodband': 932, 'removed': 3705, 'made': 2758, 'settings': 4001, 'folks': 1892, 'co': 1141, 'founder': 1916, 'sachin': 3864, 'jaiswal': 2481, 'invited': 2435, 'nasscom': 2994, 'panelist': 3188, 'industry': 2359, 'confidence': 1214, 'carry': 1009, 'avoid': 676, 'basic': 756, 'mistakes': 2906, 'perspective': 3266, 'feedback': 1831, 'ofcourse': 3092, 'allow': 499, 'needful': 3009, 'own': 3166, 'personally': 3264, 'place': 3296, 'especially': 1703, 'quickly': 3496, 'ho': 2229, 'raha': 3507, 'needs': 3010, 'transacted': 4520, 'usefull': 4677, 'rajasthan': 3518, 'ie': 2301, 'saur': 3906, '25': 159, 'unavailable': 4609, 'saturday': 3904, 'govt': 2069, 'employee': 1664, 'holiday': 2233, 'cesc': 1042, '510': 266, 'unsuccessful': 4643, 'wt': 4928, 'gen': 2002, 'refferal': 3649, 'gve': 2106, 'nobody': 3048, 'bothers': 915, 'critical': 1325, 'regularly': 3682, 'tickit': 4448, '91519': 347, 'num': 3073, 'succesfull': 4235, 'minutes': 2898, 'gone': 2050, 'responce': 3746, 'custmor': 1339, 'promocode': 3426, 'yr': 4955, 'remov': 3703, 'doesnot': 1545, 'recently': 3574, 'introduced': 2426, 'txn': 4581, 'remove': 3704, 'else': 1651, 'reasons': 3564, 'incredible': 2349, 'helpchat': 2193, 'magicx': 2765, 'spo': 4146, 'regular': 3681, 'paisa': 3181, 'cut': 1343, 'jata': 2487, 'dint': 1504, 'recived': 3595, 'insted': 2394, 'acc': 408, 'reflecting': 3659, 'disappointed': 1513, 'higer': 2212, 'official': 3099, 'reading': 3555, 'matter': 2819, 'worke': 4894, 'aa': 372, 'connect': 1224, 'let': 2653, 'shut': 4030, 'sent': 3982, 'responded': 3748, 'jago': 2479, 'ham': 2125, 'lut': 2746, 'gay': 1992, 'april': 598, '2018': 132, '300': 190, 'chart': 1068, 'line': 2687, 'tem': 4351, 'tollfree': 4483, 'namber': 2985, 'hey': 2207, 'wale': 4784, 'leyte': 2662, 'thnks': 4420, 'sorted': 4123, 'stars': 4172, 'leads': 2637, 'india': 2354, 'two': 4580, '76010': 310, '76721': 311, 'raised': 3514, 'horrendous': 2248, 'inshort': 2382, 'verification': 4729, 'tneb': 4471, 'however': 2260, 'reality': 3558, 'between': 827, 'network': 3016, 'fetching': 1843, 'complex': 1198, 'somebody': 4105, 'whom': 4850, 'approach': 594, 'god': 2041, 'keyword': 2555, 'irritating': 2446, 'nc': 2999, 'personalized': 3263, 'felt': 1839, 'person': 3260, 'feeling': 1834, 'appreciate': 590, 'artificial': 613, 'intelligence': 2404, 'inputted': 2379, 'develop': 1467, 'ue': 4597, 'charge': 1062, 'attract': 652, 'hemanthnk007': 2202, 'yahoo': 4938, 'bookmyshow': 903, 'appeared': 577, 'pool': 3335, 'dispoint': 1531, 'king': 2573, 'consumed': 1235, 'happened': 2139, 'frustation': 1958, 'alway': 512, 'lots': 2733, 'extraordinary': 1770, 'robot': 3816, 'pre': 3377, 'commanded': 1161, 'programming': 3416, 'liked': 2680, 'computer': 1203, 'nearbuy': 3003, 'platform': 3303, '2261': 151, 'deduct': 1409, 'deposit': 1442, 'acnt': 435, 'proof': 3437, 'ki': 2565, 'donot': 1554, 'finest': 1863, 'tysm': 4590, 'where': 4841, 'promcode': 3419, 'testing': 4366, 'recognition': 3597, 'setting': 4000, 'tab': 4309, 'freedom': 1931, 'control': 1253, 'set': 3998, 'accounts': 422, 'hotel': 2253, 'atm': 644, 'data': 1362, 'exclude': 1737, 'pin': 3292, 'cvv': 1346, 'shortcut': 4022, 'launch': 2629, 'hands': 2131, 'driving': 1575, 'questioning': 3489, 'learn': 2638, 'neural': 3018, 'networking': 3017, 'methods': 2871, 'node': 3049, 'connection': 1227, 'hello': 2191, 'intall': 2397, 'ordered': 3144, 'awasome': 683, 'compaire': 1177, 'persists': 3259, 'encourage': 1669, 'cheap': 1077, 'ind': 2351, 'smooth': 4084, 'updated': 4651, 'latest': 2628, 'ver': 4728, 'gpay': 2070, 'eventho': 1714, 'earlier': 1607, 'based': 754, 'went': 4830, 'ahead': 478, 'searched': 3947, 'buses': 958, 'missing': 2904, 'witness': 4875, 'extremely': 1771, 'highly': 2216, 'secure': 3959, 'phones': 3279, 'buggy': 948, 'crashing': 1311, 'thinking': 4416, 'dealsthru': 1380, 'prompt': 3435, 'return': 3770, 'complain': 1185, 'found': 1915, 'sky': 4069, 'complained': 1186, 'awsome': 694, 'whether': 4843, 'location': 2706, 'intellectual': 2403, 'jvvnl': 2525, 'usage': 4673, 'completely': 1194, 'handy': 2132, 'provides': 3458, 'promised': 3421, '100rs': 15, 'assured': 635, 'bms': 879, 'gv': 2105, 'participate': 3194, 'quiz': 3500, 'until': 4644, 'lezypay': 2663, 'madharchod': 2759, 'powerful': 3363, 'faltoooooo': 1801, 'ahmad': 479, 'pal': 3184, 'waw': 4811, 'immediate': 2311, 'updates': 4653, 'fulltoo': 1966, 'mastt': 2812, 'lightening': 2676, 'recd': 3568, 'save': 3908, 'share': 4012, 'bunch': 954, 'lies': 2672, 'finally': 1858, 'facilities': 1782, 'negative': 3011, 'gr8': 2073, '18': 101, 'november': 3067, 'tell': 4348, 'yy': 4957, 'solving': 4103, 'assistance': 629, 'aplying': 570, 'ride': 3797, 'look': 2717, 'forward': 1913, 'expiry': 1766, 'lags': 2615, 'taxi': 4333, 'ago': 476, 'innovative': 2377, 'forget': 1907, 'numbers': 3076, 'appp': 589, 'intelligent': 2405, 'initial': 2367, 'wast': 4797, 'viewber': 4755, 'satisfy': 3903, 'mast': 2811, '500': 259, '2000': 126, '02': 3, '2019': 134, 'said': 3870, 'big': 841, 'worried': 4899, 'court': 1298, 'emailing': 1658, 'policy': 3331, 'bogus': 888, 'interact': 2408, 'rechrage': 3590, 'tracstion': 4509, 'scrtch': 3940, 'polling': 3332, 'become': 783, 'helpless': 2199, 'generate': 2006, 'follow': 1893, 'resolve': 3739, 'lower': 2740, 'refferel': 3651, 'redeeming': 3618, 'hats': 2165, 'off': 3093, 'shutdown': 4031, 'meizu': 2844, 'm2': 2752, 'device': 1473, 'whenever': 4840, 'goes': 2042, '12': 41, '88': 337, 'docomo': 1541, 'directly': 1508, 'compared': 1181, 'business': 959, 'touch': 4500, 'neat': 3005, 'although': 511, 'functionality': 1970, 'spot': 4155, 'fuck': 1962, 'various': 4718, 'savings': 3914, 'refered': 3637, 'referal': 3635, 'allowing': 501, 'tax': 4332, 'bils': 856, 'tooo': 4488, 'looks': 2720, '37': 216, '113': 32, 'neither': 3014, 'whatsapp': 4837, 'thats': 4388, 'next': 3021, 'check': 1083, 'records': 3605, 'history': 2226, 'zipping': 4960, 'enjoyed': 1682, 'prove': 3452, 'lets': 2657, 'spam': 4130, 'mailbox': 2774, 'left': 2644, 'incomplete': 2343, 'amt': 533, '620': 289, 'gt': 2092, 'page': 3175, 'blank': 868, 'worstttt': 4906, 'playstore': 3307, 'retry': 3765, 'imagine': 2310, 'oh': 3103, 'minus': 2896, 'morning': 2944, '405': 231, 'consumers': 1237, 'utilities': 4696, 'awsme': 692, 'outstanding': 3160, 'flawless': 1883, 'slows': 4077, 'food': 1896, 'son': 4114, 'kdk': 2544, 'bhai': 830, 'porest': 3343, 'goof': 2056, 'nyc': 3081, 'purpose': 3476, '30rs': 195, 'possible': 3351, 'hasn': 2157, 'digital': 1500, 'mobikwik': 2913, 'thankyou': 4382, 'reminding': 3702, 'centre': 1039, 'smoother': 4085, 'paybalance': 3217, 'main': 2777, 'aapka': 382, 'kiya': 2579, 'dalna': 1356, 'urgently': 4669, 'opsahu': 3137, 'rgh': 3790, '9981348746': 368, 'thanx': 4383, 'succesful': 4234, 'cricket': 1322, 'scores': 3932, 'comfortable': 1159, 'find': 1860, 'stopping': 4200, 'recommend': 3601, '2800': 171, 'coupons': 1296, 'profitable': 3413, '1953': 114, 'reedom': 3630, 'virtual': 4762, 'refereed': 3638, 'violated': 4760, 'program': 3414, 'flop': 1889, '78864': 314, '78800': 313, 'bakar': 717, 'include': 2340, 'wholesome': 4849, 'shop': 4018, '40': 227, 'reedm': 3628, 'reedem': 3626, 'improved': 2329, 'performance': 3251, 'small': 4080, '8th': 344, 'attend': 650, 'coool': 1271, 'temporarily': 4354, 'supporting': 4280, 'boot': 907, 'closed': 1135, 'informing': 2365, 'fabulous': 1776, 'class': 1122, 'part': 3193, 'indeed': 2352, 'delay': 1425, 'finaly': 1859, 'dealy': 1381, 'supports': 4282, 'nor': 3055, 'prices': 3392, 'apk': 568, 'vd2h': 4722, '1700': 95, 'diff': 1492, 'different': 1494, 'post': 3352, '147643': 68, 'looters': 2726, 'qualified': 3484, 'satisfaction': 3900, 'cherry': 1091, 'cake': 980, 'suports': 4273, 'seem': 3965, 'outdated': 3159, 'technology': 4340, 'equipped': 1694, 'collaborate': 1145, 'surprise': 4290, 'messages': 2865, 'upon': 4661, 'contacting': 1243, 'told': 4480, 'record': 3604, 'hence': 2203, 'confirmed': 1217, 'reverted': 3777, 'passed': 3203, 'charged': 1063, 'current': 1335, 'refused': 3670, 'vickky': 4744, 'applied': 584, 'single': 4054, 'finishing': 1867, 'wont': 4887, 'keeping': 2547, 'sabse': 3863, 'sirf': 4057, 'likh': 2682, 'rha': 3791, 'aage': 378, 'koi': 2588, 'sudhar': 4248, 'ker': 2550, 'werna': 4832, 'kernge': 2551, 'numerous': 3077, 'purposes': 3477, 'creativity': 1317, 'something': 4108, 'verifying': 4731, 'webpage': 4819, 'initiative': 2371, 'massage': 2810, 'department': 1440, 'horrible': 2249, 'kuch': 2599, 'bhi': 835, 'poocha': 3333, 'ya': 4933, 'aur': 659, 'bataa': 762, 'dusra': 1599, 'toh': 4479, 'tarikaa': 4326, 'sa': 3858, 'baat': 704, 'sakaa': 3871, 'par': 3190, 'wo': 4876, 'ni': 3027, 'khali': 2560, 'jagahaa': 2478, 'elite': 1650, 'ban': 736, 'log': 2709, 'inka': 2373, 'aadmi': 377, 'reliable': 3693, 'impression': 2325, 'opreatorthey': 3136, 'rejected': 3685, 'wastte': 4803, 'tine': 4459, 'dropped': 1577, 'emailed': 1657, 'signing': 4038, 'deny': 1438, 'read': 3554, 'sms': 4088, 'manually': 2800, 'lengthy': 2650, '3days': 222, 'reflected': 3658, '04': 4, '19': 111, 'resembles': 3734, 'staff': 4165, 'irresponsible': 2444, 'trees': 4539, 'leave': 2642, 'second': 3952, 'step': 4186, 'website': 4820, 'calling': 983, 'switched': 4300, 'marvellous': 2808, 'fully': 1967, '509': 263, 'lazypay': 2635, 'end': 1670, 'addicted': 450, 'top': 4491, 'btw': 942, 'dumb': 1586, 'seriously': 3988, 'file': 1850, 'against': 472, 'ppl': 3365, 'reviews': 3780, 'doesnt': 1546, 'tou': 4499, 'logging': 2711, 'pymt': 3481, 'postpay': 3358, 'tsken': 4563, 'amzon': 534, 'ticketing': 4446, 'rechrge': 3591, 'frnds': 1948, '399rs': 221, '331rs': 205, '68rs': 294, 'bt': 941, 'nt': 3071, '1hrs': 119, '1699': 92, 'cancelled': 992, '28': 169, 'hectic': 2185, 'previously': 3388, 'suddenly': 4247, 'batch': 763, '1071': 20, 'payumoney': 3233, 'wat': 4804, 'happens': 2141, '4112': 233, 'watapps': 4805, 'reminder': 3700, 'onead': 3113, 'csaudr': 1329, 'rich': 3794, 'exchange': 1735, 'rate': 3533, 'points': 3327, 'equal': 1693, 'dumbest': 1588, 'cumbersome': 1333, 'filled': 1854, 'turd': 4571, 'nascent': 2993, 'attempt': 648, 'building': 951, 'ux': 4700, 'stories': 4203, 'bekaar': 802, 'low': 2739, 'paati': 3170, 'saw': 3916, 'thousands': 4430, 'void': 4771, 'proving': 3460, 'temp': 4352, 'means': 2835, 'proove': 3439, 'unblock': 4612, 'calm': 985, 'increased': 2347, 'frequently': 1938, '1100': 29, 'offering': 3096, 'recvd': 3610, 'chytiya': 1113, 'report': 3718, 'reminders': 3701, 'helpline': 2200, '92850': 350, 'took': 4487, 'trust': 4556, 'farud': 1811, 'maharashtra': 2768, 'states': 4178, 'attention': 651, 'seeking': 3964, 'short': 4020, 'tring': 4548, 'important': 2320, 'tinsukia': 4460, 'gawahati': 1991, 'home': 2234, 'town': 4505, 'accept': 409, 'balgaluru': 732, 'worest': 4892, 'loads': 2702, 'allows': 502, 'wtf': 4929, 'mo': 2911, 'systems': 4306, 'delete': 1427, 'mob': 2912, 'tat': 4329, 'saves': 3912, 'storage': 4201, 'old': 3108, '9999381988': 369, 'unlink': 4632, 'phonepay': 3277, 'custmar': 1338, 'sarvice': 3897, 'nunber': 3078, 'thay': 4389, 'castomer': 1026, 'wrongly': 4923, 'karna': 2537, 'actual': 444, 'enjoying': 1683, 'became': 780, 'payout': 3227, 'mobiles': 2916, 'flawlessly': 1884, 'complaining': 1187, 'torrent': 4493, 'trusted': 4558, '398': 219, 'hate': 2161, 'mera': 2855, 'paytmwallet': 3232, '1500': 76, 'hua': 2267, 'hone': 2237, 'bahut': 715, 'istant': 2461, 'hona': 2236, 'chahiye': 1044, 'guyz': 2104, 'glad': 2034, 'exellent': 1741, 'internet': 2420, 'revolution': 3783, 'deleted': 1428, 'hangs': 2135, 'toward': 4503, 'biller': 848, '16579': 89, '04d1473506358663': 5, 'rip': 3802, '444rs': 238, '31st': 200, 'dec': 1393, '17th': 100, 'jan': 2483, '11': 28, 'jri': 2516, 'escalating': 1702, 'year': 4942, 'mails': 2776, 'rewards': 3788, 'validate': 4709, 'jhakaas': 2498, 'complains': 1188, 'deaf': 1376, 'ears': 1615, 'claim': 1119, 'opted': 3139, 'crashed': 1309, 'ss': 4162, 'aosome': 564, 'ablaible': 397, '211045': 144, 'answered': 550, 'noww': 3069, '7180': 302, 'bcoz': 771, 'doubt': 1561, 'merchandise': 2856, 'cycle': 1348, 'aa7': 373, 'breeze': 925, 'downloaded': 1566, 'ad': 446, '200rs': 129, '266': 164, '400rs': 229, 'chaiye': 1046, 'choro': 1106, 'tumhe': 4569, 'reacharged': 3547, 'state': 4177, 'introduce': 2425, 'cb': 1032, 'true': 4553, 'trtr': 4551, '000005150191': 1, '05': 6, '59': 274, '00': 0, 'ub': 4594, 'dr': 1571, '270': 166, 'inr': 2380, 'devited': 1476, '1270': 48, 'satying': 3905, 'dopnt': 1557, 'vickymahan': 4745, '80': 319, '62': 288, 'experienced': 1760, 'transacting': 4521, 'perfectly': 3249, 'algorithm': 496, 'identifying': 2296, 'submitted': 4226, 'faltoo': 1800, 'related': 3686, 'benk': 815, '450': 242, 'boat': 886, 'bringing': 928, 'market': 2806, 'importantly': 2321, 'cabs': 978, 'upgrades': 4658, '2months': 185, 'dedicated': 1406, 'ane': 539, 'mor': 2941, 'drain': 1572, 'samsung': 3887, 'galaxy': 1982, 'note': 3059, 'supported': 4279, 'mins': 2894, 'requited': 3731, 'homepage': 2235, 'looking': 2719, 'cheers': 1088, 'billpayments': 853, 'hlo': 2227, 'bihar': 843, 'electry': 1647, 'pement': 3238, 'kijiye': 2568, 'south': 4127, 'distibuter': 1533, 'sbpdcl': 3921, '95': 357, 'expected': 1754, 'promotions': 3434, 'poorly': 3339, 'described': 1447, 'misleading': 2901, 'fan': 1804, 'minore': 2893, 'awsom': 693, 'quality': 3485, 'gayi': 1996, 'spent': 4143, 'referring': 3647, '80rs': 322, 'spread': 4156, 'everywhere': 1725, 'humble': 2275, 'devs': 1477, 'handling': 2129, 'benifit': 814, 'serval': 3989, 'unique': 4625, 'luv': 2748, 'deducated': 1408, 'helped': 2194, 'bakvaas': 721, 'therr': 4403, 'downloads': 1569, 'mistake': 2905, '1330': 58, 'three': 4431, 'chating': 1073, '498': 250, '508': 262, '67': 293, 'ridiculous': 3799, '45': 241, 'bestest': 819, 'rocksssssss': 3820, 'oversold': 3164, '14': 62, 'bcz': 772, 'tje': 4466, 'category': 1027, 'method': 2870, 'facility': 1783, 'platforms': 3304, '1493': 72, 'invoice': 2437, 'racharge': 3503, 'prosasing': 3446, 'chaya': 1076, 'limit': 2685, 'continuously': 1250, 'treat': 4537, 'initiated': 2370, '9th': 371, 'september': 3986, '15th': 87, '16th': 93, 'written': 4920, 'several': 4004, 'attachments': 647, 'evidences': 1726, 'merchants': 2858, 'flight': 1886, 'bookings': 902, 'wish': 4866, '63763170': 292, 'videocon': 4747, 'id1921472978782313': 2292, '600': 284, 'thief': 4408, '800': 320, 'khaa': 2558, 'gaye': 1995, 'kyaa': 2607, 'decrease': 1403, 'oyo': 3168, 'room': 3825, 'water': 4808, 'bwssb': 969, 'rs150': 3835, 'updating': 4654, 'angry': 541, 'stucked': 4215, 'wastage': 4798, 'bu': 943, 'weak': 4817, 'biggest': 842, 'otherwiseis': 3155, 'fastest': 1814, 'confirm': 1215, 'rush': 3855, 'handle': 2127, 'safe': 3866, 'stealing': 4184, 'talk': 4317, 'sai115': 3869, 'http': 2265, 'soo': 4116, 'bkwas': 863, 'yaar': 4936, 'surcharges': 4287, 'opt': 3138, 'around': 608, 'betr': 824, 'versn': 4736, 'cashbak': 1020, 'freezes': 1934, 'quicker': 3494, 'arjun17': 607, 'blink': 870, 'eye': 1773, 'transetion': 4528, '16': 88, 'chuke': 1109, 'bakbass': 719, 'kabhi': 2528, 'aata': 388, 'cx': 1347, '3300': 204, 'mentione': 2852, 'dunia': 1592, 'diacount': 1485, '20percent': 141, 'arw': 614, 'activities': 442, 'model': 2922, 'someone': 4107, 'prefer': 3380, 'cause': 1029, 'browsed': 936, 'family': 1803, 'relatives': 3687, 'nhe': 3025, 'milla': 2883, 'saved': 3910, '700': 298, '1376': 60, 'redeemed': 3617, 'gland': 2035, 'sill': 4040, 'likha': 2683, 'gaya': 1993, 'aisa': 487, 'kaise': 2532, 'skta': 4067, 'jabki': 2476, 'jab': 2473, 'unse': 4641, 'manga': 2794, 'bolte': 894, 'mujhe': 2966, 'harisingh': 2153, 'tapzo': 4323, 'hlw': 2228, 'mai': 2772, 'crossed': 1327, 'reacharges': 3548, 'requires': 3730, 'promises': 3422, 'earth': 1616, 'build': 950, 'andhra': 537, 'pressed': 3385, 'television': 4347, 'screen': 3937, 'gpod': 2071, 'variety': 4717, 'improvements': 2331, 'redeam': 3614, 'reffrel': 3655, 'patym': 3212, '48hrs': 249, 'running': 3847, 'udaipur': 4596, 'messy': 2868, 'suppose': 4283, 'improving': 2334, 'suggestions': 4254, 'general': 2004, 'concepts': 1206, 'everyday': 1719, 'sounds': 4125, 'tapping': 4322, 'layout': 2633, 'heavy': 2183, 'refrral': 3662, 'jayendra': 2494, 'specially': 4134, 'communication': 1175, 'steps': 4187, 'requir': 3726, 'karta': 2541, 'hu': 2266, 'freecharge': 1930, 'respect': 3744, 'mdrchod': 2829, 'hindi': 2223, 'language': 2621, 'pura': 3468, 'apni': 573, 'maa': 2753, 'chut': 1111, 'dal': 1354, 'rhe': 3792, 'cmpny': 1140, '24hrs': 157, 'waited': 4779, '8hrs': 343, 'havent': 2169, 'wii': 4859, 'itna': 2465, 'milti': 2885, 'pese': 3268, 'wpis': 4916, 'mile': 2880, 'succeeded': 4231, 'vallet': 4714, 'whereas': 4842, 'seeing': 3963, 'info': 2362, 'tired': 4463, 'close': 1134, 'permanently': 3254, 'below': 808, 'promoted': 3430, 'false': 1799, 'commitment': 1169, 'promotion': 3432, 'nycc': 3082, 'believe': 805, 'deduction': 1413, 'wants': 4790, 'faced': 1780, 'fron': 1954, 'selection': 3972, 'glitches': 2036, 'software': 4096, 'convience': 1264, 'might': 2876, 'collect': 1146, 'housefull': 2258, 'sim': 4042, 'rupee': 3850, 'cashabck': 1016, 'roobing': 3823, 'block': 871, 'generally': 2005, 'special': 4133, 'bakvas': 722, 'haai': 2114, 'benchod': 809, 'bounce': 921, 'swapnil': 4295, 'tremendous': 4540, 'behind': 800, 'revolutionary': 3784, 'amazed': 516, 'thw': 4442, 'simplicity': 4047, 'guft': 2096, 'age': 473, 'initiate': 2369, 'robbotic': 3813, 'stressed': 4208, 'krna': 2594, 'superior': 4268, 'prefers': 3382, 'superrrrrrb': 4271, 'timewaste': 4458, 'assure': 634, 'in48': 2338, 'bull': 952, 'shit': 4016, 'reffer': 3648, 'offered': 3095, 'jus': 2522, '3rd': 226, 'wastes': 4801, 'headache': 2179, 'awarded': 678, 'reached': 3549, 'excellence': 1730, 'movies': 2951, 'thieve': 4410, 'frequent': 1937, 'atleast': 643, '8000': 321, 'nightmare': 3037, '2870': 173, 'anyways': 559, 'fluent': 1891, '400': 228, '4th': 257, 'towards': 4504, 'percent': 3247, 'least': 2640, 'bothered': 914, 'acknowledgement': 434, 'watsapp': 4809, 'merchant': 2857, 'thieves': 4411, 'benefitted': 812, 'compare': 1180, 'thanku': 4381, 'hyderabad': 2286, 'digit': 1499, 'rural': 3854, 'area': 603, 'healthy': 2180, 'favorite': 1817, 'preference': 3381, 'suoport': 4258, 'vastly': 4720, 'event': 1713, 'bkwaas': 862, 'stuff': 4216, 'clear': 1125, 'maha': 2766, 'madher': 2760, 'chod': 1099, 'four': 1917, 'vash': 4719, 'senseless': 3981, 'cuatomer': 1332, 'bokwas': 891, 'shahrukh76': 4006, 'friendliness': 1942, 'supercash': 4265, 'initially': 2368, 'frustrated': 1959, '10mins': 25, '75rs': 309, 'mangalore': 2795, 'bangalore': 741, 'night': 3036, 'boarding': 882, 'district': 1535, 'reachable': 3545, 'uaeful': 4592, 'usless': 4691, 'inspection': 2383, 'ek': 1639, 'baar': 702, 'yadi': 4937, 'har': 2144, 'mahine': 2771, 'de': 1373, 'badiya': 711, 'hoga': 2230, 'daya': 1369, '523': 267, 'june': 2519, 'register': 3675, '9035499929': 345, 'kanishk5': 2534, 'trillionaire': 4547, 'shot': 4023, '5th': 282, 'october': 3088, 'upto': 4664, 'evening': 1712, 'either': 1638, 'impossible': 2323, 'quit': 3498, 'mebership': 2836, 'frustrating': 1960, 'commit': 1167, 'popped': 3340, 'misguide': 2900, 'rivals': 3808, 'mind': 2887, 'blowing': 876, 'tweet': 4576, 'sleeping': 4071, 'bluff': 878, 'impliment': 2319, 'called': 982, 'diducted': 1491, '24hts': 158, 'ypu': 4954, 'im': 2309, 'madarchod': 2757, 'banate': 739, 'upi': 4659, 'strongly': 4210, 'apposed': 588, 'computerised': 1204, 'base': 753, 'vest': 4738, 'chargable': 1061, 'frndly': 1947, 'gajab': 1981, 'risivd': 3804, 'musing': 2971, 'bott': 917, 'seamless': 3943, 'effortless': 1634, '19th': 116, 'july': 2517, 'generated': 2007, 'members': 2847, 'happening': 2140, 'death': 1384, 'theam': 4391, 'recommended': 3603, 'succcckkkksss': 4229, 'bses': 939, 'rajdhani': 3519, 'penalty': 3239, 'bug': 947, 'site': 4059, 'referrals': 3643, 'pliz': 3313, 'referrer': 3646, '20rs': 142, 'panic': 3189, 'rounder': 3827, 'basically': 757, 'discuss': 1521, 'listen': 2691, 'aid': 481, 'reliancee': 3695, 'rs1000': 3833, 'thiff': 4412, 'scenario': 3926, 'hii': 2217, 'compration': 1201, 'vekariya9': 4726, 'turns': 4574, 'graphics': 2078, 'applying': 586, 'sucessful': 4242, 'commission': 1166, 'sper': 4144, 'opening': 3124, 'net': 3015, 'aspect': 626, 'nf': 3023, '3g': 223, 'talktime': 4319, 'dakshin': 1353, 'haryana': 2155, 'bijli': 844, 'vitran': 4765, '84e1466923584009': 328, '23': 153, 'ref': 3632, 'll': 2699, 'ful': 1964, '133863': 59, 'earliest': 1608, 'gvk': 2107, 'promocodes': 3427, 'ekdum': 1641, 'transparent': 4532, 'gas': 1987, 'queries': 3486, 'uesfull': 4599, '12hr': 52, 'ema': 1655, 'fir': 1868, 'wid': 4856, 'gev': 2018, 'opertor': 3131, 'smoothly': 4086, 'sallo': 3881, 'tume': 4567, 'smj': 4082, 'kitni': 2578, 'kr': 2591, 'li': 2666, 'mene': 2850, 'salloo': 3882, 'aisi': 489, 'taisi': 4311, 'dunga': 1591, 'teri': 4359, 'salle': 3880, 'paise': 3182, 'faad': 1774, 'tuje': 4565, 'din': 1503, 'aukat': 658, 'mt': 2961, 'dikha': 1501, 'gyi': 2111, 'jha': 2497, 'bolega': 893, 'vha': 4740, 'jaunga': 2490, 'abe': 392, 'km': 2582, 'salla': 3879, 'panding': 3186, 'tricking': 4543, 'rarely': 3531, 'repeated': 3710, 'sarkar': 3896, 'box': 923, 'untill': 4645, 'unless': 4629, '2weeks': 188, 'energy': 1672, 'being': 801, 'concerned': 1208, 'bluddy': 877, 'rule': 3844, 'unsatisfied': 4640, 'interactieve': 2409, 'design': 1450, 'ported': 3347, 'rectify': 3609, 'across': 436, 'donn': 1551, 'pleasure': 3312, 'salute': 3883, '6183': 287, '6304': 290, 'behaving': 797, 'jate': 2488, '319': 199, 'consumes': 1238, 'space': 4129, 'function': 1969, 'gona': 2049, 'soooon': 4119, 'rude': 3842, 'dumbass': 1587, 'watch': 4806, 'oerator': 3090, 'vodaphone': 4768, 'autmatically': 661, 'brilliantly': 927, 'frame': 1919, 'aukad': 657, 'dene': 1436, 'tottaly': 4498, '155806': 83, 'sidheshwar3': 4036, 'tech': 4336, 'promote': 3429, 'blah': 866, 'light': 2674, 'superfast': 4266, 'scared': 3924, 'recharger': 3584, 'transcation': 4525, 'executive': 1740, 'genarated': 2003, 'bro': 930, 'mee': 2839, 'bazzzar': 768, 'saaale': 3859, 'tera': 4357, 'logout': 2713, 'click': 1130, 'pleasant': 3309, 'clearly': 1127, 'd2h': 1349, '855': 330, 'tru': 4552, 'b4d1492171054624': 700, '2017': 131, '31': 198, 'pm': 3320, 'ready': 3556, 'mobil': 2914, 'lol': 2714, 'opens': 3125, '200105': 128, 'fcuk': 1821, 'looting': 2727, 'continue': 1247, 'alas': 493, '2276': 152, 'lying': 2750, 'dor': 1558, 'purchases': 3471, 'nehi': 3012, 'question': 3488, 'maintain': 2779, 'basis': 758, 'arrange': 609, 'elecricity': 1643, 'attachment': 646, 'aaya': 389, '1000ka': 13, 'chitar': 1095, 'dete': 1463, 'feke': 1837, 'uselessa': 4681, 'sandip17': 3891, 'scamming': 3923, '18th': 110, 'eligible': 1649, 'information': 2364, 'becz': 786, 'security': 3961, '1160': 34, 'verry': 4733, 'reedmed': 3629, 'funny': 1974, 'hero': 2206, 'truebalance': 4554, '2c7wadyj': 178, 'ru': 3840, 'tedious': 4342, 'feels': 1835, 'alien': 497, 'access': 412, 'kannada': 2535, 'referrel': 3645, 'jinendra3': 2502, 'infinitely': 2361, 'solution': 4098, 'publicised': 3465, 'accomplish': 417, 'tasks': 4328, 'usually': 4694, 'practical': 3370, 'developing': 1471, 'cutted': 1345, 'behavior': 798, 'bhavna23': 834, 'proceed': 3403, 'accuracy': 426, 'shortage': 4021, '183153': 107, '185560': 109, 'wbsedcl': 4815, 'banking': 744, 'freindly': 1935, 'example': 1729, 'automation': 667, 'gateways': 1989, 'permissions': 3256, 'photos': 3281, 'media': 2837, 'camera': 987, 'loyal': 2741, 'honorable': 2241, 'promoting': 3431, 'causes': 1030, 'pain': 3180, 'releated': 3690, 'fair': 1794, 'refunds': 3668, 'lil': 2684, 'spend': 4142, 'robbing': 3812, '750': 308, 'jiffy': 2500, 'bavligad': 765, 'awesum': 688, 'buddy': 946, 'productive': 3410, 'dat': 1361, 'abot': 401, 'vi': 4741, 'amazo': 519, 'grey': 2084, 'unhappy': 4620, 'favourite': 1818, 'tge': 4372, 'mandatory': 2793, 'field': 1848, 'navigation': 2997, 'efforts': 1635, 'require': 3727, 'proudct': 3451, 'un': 4605, 'suppep': 4274, 'recgarge': 3575, 'startup': 4176, 'bakvass': 723, 'conversation': 1260, 'enabled': 1665, 'mate': 2815, 'eventhough': 1715, 'musr': 2972, '1002': 14, 'nov': 3065, 'creating': 1315, 'document': 1542, 'resonse': 3742, 'anytime': 556, 'pilot': 3291, 'project': 3418, 'txt': 4582, 'accurate': 427, 'desirable': 1453, 'ability': 396, 'hav': 2166, '180': 102, 'struck': 4211, 'referals': 3636, 'color': 1149, 'advice': 464, 'win': 4862, 'succinct': 4240, 'mcd': 2826, 'commitments': 1170, 'following': 1895, 'enhance': 1677, 'developer': 1469, 'incorporate': 2344, 'including': 2341, 'nicely': 3033, 'secondly': 3954, 'बकव': 5025, 'ऐप': 4984, 'mov100': 2948, 'applicable': 581, 'damn': 1360, 'philitdsouza': 3275, 'recomend': 3600, 'clarify': 1121, 'bougut': 920, '1k': 120, 'bazaar': 767, 'aya': 696, 'seens': 3968, 'often': 3102, 'suggested': 4252, 'started': 4174, 'asli': 623, 'loooooooot': 2721, 'hain': 2119, 'deducte': 1410, '88359': 340, '88315': 339, 'reffral': 3654, 'joining': 2514, 'nishant3': 3045, '104': 17, 'पर': 5021, 'नह': 5017, 'गय': 5001, 'अभ': 4965, 'तक': 5007, 'बह': 5032, 'reflecte': 3657, 'likeit': 2681, 'awosm': 689, 'somewhat': 4111, 'rectifing': 3608, 'ease': 1618, 'tranparency': 4517, 'firdt': 1869, 'encounter': 1668, 'monthsback': 2937, 'fear': 1822, 'dishtv': 1526, 'succeed': 4230, 'nike': 3039, 'trans': 4518, '01': 2, 'faild': 1789, 'simpler': 4046, 'asome': 625, 'thereafter': 4402, 'granted': 2076, 'instructions': 2395, 'peace': 3236, 'height': 2188, 'expand': 1750, 'knew': 2583, 'challenging': 1049, 'task': 4327, 'serve': 3990, 'anyware': 557, 'nothimg': 3061, 'harmfull': 2154, 'exclusive': 1738, 'fruad': 1956, 'owo': 3167, 'deleting': 1429, 'mindset': 2889, 'unnecessary': 4636, 'securely': 3960, 'communicating': 1174, 'worse': 4902, 'responses': 3752, 'desired': 1454, 'golwin': 2048, 'souza': 4128, 'proved': 3453, 'afraid': 466, '459': 243, 'hundred': 2278, 'abhi': 393, 'tak': 4312, 'ilove': 2308, 'head': 2177, 'reefer': 3631, 'swift': 4298, 'rid': 3796, 'thx': 4444, 'entire': 1688, 'tranaction': 4514, 'lyk': 2751, 'min': 2886, '181728': 105, 'upgrade': 4657, 'quic': 3492, 'nyce': 3083, 'rafeeq': 3505, 'roast': 3810, 'none': 3052, 'prashi': 3375, 'irrelevant': 2443, 'vendors': 4727, 'exceptional': 1733, 'generic': 2010, 'copycat': 1276, 'free20': 1929, 'frnd': 1946, 'timers': 4456, 'accessible': 414, 'engaging': 1674, 'functions': 1971, 'ihave': 2305, '4months': 254, 'whatsoever': 4838, 'blame': 867, 'crap': 1307, 'toll': 4482, 'wapsite': 4792, 'upyog': 4666, 'rupay': 3849, 'bata': 761, 'aaj': 379, 'naa': 2978, 'wapis': 4791, 'hapkit': 2136, 'yeh': 4943, 'partner': 3196, '70k': 300, 'august': 656, '50credits': 264, 'gayab': 1994, 'mela': 2845, 'validating': 4711, 'rafiral': 3506, '7232053090': 304, 'impresed': 2324, 'gold': 2047, 'activation': 440, 'spite': 4145, 'attempts': 649, 'filthy': 1856, 'dream': 1573, 'solutions': 4099, 'tougher': 4502, 'theater': 4392, 'choices': 1101, 'metro': 2872, 'no1': 3047, 'ty': 4583, 'implemented': 2318, 'deposited': 1443, 'deducting': 1412, 'independence': 2353, 'guidance': 2098, 'popular': 3341, 'registering': 3677, 'keyboard': 2554, 'desapers': 1445, 'copy': 1275, 'paste': 3207, 'सकत': 5048, 'बढ': 5026, 'कर': 4991, 'एक': 4982, 'सव': 5057, 'सम': 5054, 'उम': 4979, 'बब': 5030, 'करत': 4993, 'दग': 5011, 'बन': 5028, 'बर': 5031, 'जग': 5006, 'थम': 5010, 'कत': 4988, 'रखन': 5040, 'मन': 5036, 'समझ': 5055, 'नमस': 5016, 'और': 4986, 'गड़': 5003, 'गन': 5000, 'पत': 5019, 'बनत': 5029, 'destination': 1458, 'walk': 4785, 'warning': 4794, 'hardly': 2149, 'costume': 1285, 'trouble': 4550, 'rajasekhar36': 3517, 'idont': 2299, '2810': 172, 'hated': 2162, 'body': 887, 'infinite': 2360, 'phase': 3274, 'clarification': 1120, 'screenshots': 3939, 'resolving': 3741, 'wasn': 4796, 'join': 2513, 'period': 3253, 'sept': 3985, 'bi': 840, 'memory': 2848, 'haah': 2113, 'certain': 1041, 'active': 441, 'ap': 565, 'mamnun': 2788, 'messenger': 2867, 'transection': 4527, 'intuitive': 2429, 'trend': 4541, 'collecting': 1147, 'worsttt': 4905, 'confusing': 1222, '831': 323, 'hajam': 2120, 'gye': 2110, 'krte': 2596, 'management': 2791, 'jisse': 2507, 'tum': 4566, 'bat': 760, 'sko': 4066, 'reauest': 3565, 'android': 538, 'interaction': 2410, 'diffrent': 1496, 'greatest': 2083, 'innovation': 2376, 'conversational': 1261, 'commerce': 1165, 'ise': 2450, 'kre': 2592, 'tk': 4468, 'rewersel': 3789, 'aaye': 390, 'iskaa': 2451, 'coustumer': 1302, 'himself': 2221, 'paras21': 3192, 'goofs': 2057, 'sites': 4060, 'factor': 1787, 'billpay': 851, 'areas': 604, 'monthly': 2935, 'direct': 1505, 'particular': 3195, 'banks': 745, 'tied': 4450, 'recognized': 3598, 'internationally': 2419, 'digibank': 1498, 'sbi': 3920, 'hdfc': 2175, 'icici': 2290, 'gr88888': 2074, 'accessable': 413, 'style': 4221, 'cust': 1337, 'reopen': 3708, 'closing': 1136, 'shame': 4008, 'waits': 4781, 'lightweight': 2678, 'usable': 4672, 'bhikari': 836, 'smjhta': 4083, 'tumhare': 4568, 'rakh': 3524, 'apne': 572, 'pass': 3202, 'unistalling': 4628, 'सफल': 5049, 'उसक': 4981, 'पस': 5023, 'आय': 4973, 'durgesh22': 1596, 'utilized': 4698, 'ideas': 2294, 'tpddl': 4506, 'versions': 4735, 'worked': 4895, 'alot': 505, 'dropping': 1578, 'tickits': 4449, 'belive': 807, '60': 283, 'regretting': 3680, 'badly': 712, 'flat': 1881, 'adjustment': 459, 'group': 2087, 'paytment': 3231, 'result': 3759, 'knows': 2585, 'bestever': 820, 'sends': 3979, 'removing': 3706, 'alerts': 495, '30mins': 194, 'crediting': 1320, 'whatever': 4835, 'understood': 4617, 'decided': 1397, 'exist': 1744, 'discontinue': 1518, 'discusting': 1523, 'arre': 611, '2700': 167, 'clicks': 1132, 'al': 492, '1700credit': 96, 'debitrd': 1390, 'msintain': 2959, 'sai': 3868, 'gya': 2109, 'pr': 3368, 'huaa': 2268, 'cute': 1344, '112yr': 31, 'budda': 945, 'milta': 2884, '8496999933': 327, 'nom': 3050, '350': 210, 'submited': 4225, 'swagat6': 4294, 'probably': 3399, 'yourself': 4951, 'genius': 2011, 'unmatched': 4634, 'jati': 2489, '3movie': 225, 'fooling': 1899, 'checked': 1084, 'magic': 2763, 'gobutler': 2040, 'dnt': 1539, 'bhaio': 832, 'awareness': 680, 'approaching': 595, 'appropriate': 596, 'proofs': 3438, 'kio': 2574, 'standard': 4169, 'decision': 1398, 'responsibility': 3754, 'strictly': 4209, 'eussy': 1710, 'completion': 1197, 'pspcl': 3464, 'poorest': 3338, 'among': 526, 'putting': 3479, 'automatically': 666, 'selected': 3970, 'phrases': 3283, 'implement': 2316, 'large': 2623, 'speak': 4132, 'himu': 2222, 'succefull': 4232, 'pqyment': 3367, 'tension': 4356, 'finding': 1861, 'robo': 3815, 'timepass': 4455, 'her': 2204, 'unfortunately': 4619, 'tatasky': 4331, 'five': 1876, 'autobot': 663, 'rohit92': 3821, 'singup': 4055, 'cases': 1014, 'successfull': 4238, '1lakh': 121, 'hiiiiiii': 2219, 'mostly': 2946, 'pospaid': 3350, 'oner': 3114, '10min': 24, 'desk': 1455, 'desarv': 1446, 'mobkiwic': 2920, 'esuue': 1707, 'chutiya': 1112, 'samjhte': 3885, 'bai': 716, 'isntall': 2455, 'isko': 2452, 'le': 2636, 'jao': 2485, 'beggers': 793, 'ego': 1637, 'junior': 2520, 'retain': 3762, 'tittle': 4464, 'tumse': 4570, 'payega': 3219, 'responsibilities': 3753, 'occur': 3086, '299': 175, 'preetty': 3378, 'visited': 4763, 'muat': 2962, 'ill': 2307, 'legal': 2645, 'typed': 4586, 'beggar': 792, 'mihir41': 2877, 'intresting': 2423, 'usibg': 4687, 'thriugh': 4433, 'superrb': 4269, 'techniqe': 4338, 'evry': 1727, 'common': 1172, 'dhbvn': 1482, 'congratulations': 1223, 'understanding': 4615, 'whats': 4836, 'timely': 4454, 'tap': 4320, 'gps': 2072, 'reduced': 3624, '349rs': 208, 'alternate': 509, 'woeful': 4878, 'billing': 850, 'views': 4757, 'consideration': 1230, 'betterment': 826, 'redeemable': 3616, '1200': 43, 'hurdles': 2279, '21feb': 146, 'minor': 2892, 'expire': 1762, 'increasing': 2348, 'existing': 1746, 'video': 4746, 'sections': 3958, 'sweet': 4297, '3683': 215, 'positive': 3349, 'land': 2618, 'disconnected': 1517, 'cos': 1281, 'landbill': 2619, '17': 94, 'office': 3098, '1599': 85, 'eaten': 1623, 'dears': 1383, 'vidyut': 4753, 'ltd': 2742, 'propper': 3444, 'propperly': 3445, 'policies': 3330, 'huuu': 2283, 'avilable': 675, 'continues': 1248, 'comes': 1157, 'cooolll': 1272, 'matey': 2816, 'unbelievable': 4610, 'research': 3733, 'rular': 3843, 'elctric': 1642, 'blacklist': 865, 'hiii': 2218, 'toof': 4486, '479': 246, 'value': 4715, '145322': 64, 'shared': 4013, 'necessary': 3006, 'rasised': 3532, 'wonderfull': 4884, 'hasselfree': 2158, 'demands': 1435, 'brother': 934, 'suggestion': 4253, 'unauthorised': 4608, 'linked': 2689, 'tez': 4371, 'returned': 3771, 'dues': 1584, 'scrach': 3933, 'qr': 3483, 'detail': 1461, 'booknyshow': 904, 'prashant482': 3374, 'denied': 1437, 'truly': 4555, 'serves': 3992, 'wil': 4860, 'ratings': 3537, 'couple': 1294, 'sharing': 4014, 'constructive': 1234, 'matrix': 2818, 'ons': 3118, 'hopefully': 2245, 'guy': 2102, 'moman': 2931, 'simplified': 4048, 'sticking': 4189, '2000rs': 127, 'duduct': 1582, 'nic': 3028, 'loan': 2703, 'rare': 3530, 'sometime': 4109, 'delayed': 1426, '175': 98, 'tractions': 4510, 'boring': 910, 'mass': 2809, 'atak': 639, 'dono': 1553, 'sec': 3951, 'boom': 905, 'liya': 2697, 'jis': 2504, 'ne': 3001, 'banya': 748, 'sahi': 3867, 'sari': 3895, 'subhkamna': 4223, 'dum': 1585, 'pada': 3173, 'baad': 701, '93671': 354, 'meaning': 2833, 'difference': 1493, 'transfer': 4529, 'designed': 1451, 'dates': 1365, 'twitter': 4579, 'aoo': 562, 'loss': 2729, '22': 148, 'speedy': 4141, 'foolish': 1900, '79669': 317, 'bygod': 972, 'bhrosa': 839, 'uth': 4695, 'behad': 795, 'hui': 2272, 'isliye': 2453, 'waale': 4775, 'jagah': 2477, 'kiye': 2580, 'aajate': 380, 'maamle': 2754, 'saabit': 3860, 'kami': 2533, 'apke': 569, 'hoti': 2255, 'jo': 2508, 'baare': 703, 'kuchh': 2600, 'sako': 3873, 'beacause': 774, 'pagal': 3174, 'bna': 880, 'mgr': 2873, 'skte': 4068, 'phr': 3282, 'women': 4879, 'careful': 1006, 'mobiquik': 2919, 'steady': 4183, 'goid': 2043, '20th': 143, 'donefrom': 1550, 'commands': 1162, 'backwas': 708, 'achcha': 429, 'jiske': 2505, 'lie': 2670, 'lekin': 2646, 'lekr': 2647, 'lgate': 2665, 'kisi': 2576, 'pasand': 3199, 'conviance': 1263, 'lgata': 2664, 'deke': 1422, 'aapki': 384, 'kyu': 2608, 'dad': 1351, 'cellphone': 1037, 'emergency': 1660, 'situation': 4061, 'rechrged': 3592, 'ive': 2471, 'thier': 4409, 'xare': 4930, 'ids': 2300, '110595': 30, 'dirty': 1509, 'straight': 4205, 'confused': 1221, '88235': 338, 'swithced': 4302, '1300': 56, 'yhe': 4947, 'declining': 1402, 'thia': 4407, 'sucess': 4241, 'nicee': 3031, 'afterwards': 470, '2hr': 182, 'absurd': 406, 'convinence': 1267, 'chrges': 1107, 'amozn': 531, 'honest': 2238, 'channels': 1059, 'with399': 4870, 'frud': 1957, 'ch': 1043, 'peoples': 3245, 'dealing': 1378, 'experiance': 1758, 'filling': 1855, 'ex': 1728, 'rs11': 3834, 'proceeeed': 3404, 'paymemnt': 3223, 'improvmement': 2335, 'theme': 4398, 'jawab': 2491, 'rahe': 3508, '499': 251, 'meri': 2860, 'sabhi': 3862, 'taraf': 4324, 'salah': 3877, 'mano': 2797, 'mohit1095': 2926, 'rust': 3856, 'tere': 4358, 'transation': 4524, 'परफ': 5022, 'exiting': 1747, 'dontn': 1556, 'superbbb': 4264, 'met': 2869, 'refuse': 3669, 'along': 504, 'tjis': 4467, 'idiot': 2297, '30th': 197, 'oct': 3087, 'facebook': 1779, 'cautious': 1031, 'ages': 475, 'wifi': 4858, '10k': 23, '1million': 122, 'sanch': 3888, 'kahi': 2530, 'ta': 4308, 'dil': 1502, 'gad': 1978, 'gail': 1979, 'boasted': 885, 'realized': 3560, 'idiotic': 2298, 'bottom': 918, 'chatboat': 1071, 'ppstpaid': 3366, 'parag4': 3191, 'kool': 2590, 'handled': 2128, 'chats': 1074, 'treats': 4538, 'transition': 4531, 'leatherboard': 2641, 'boiled': 890, 'egg': 1636, 'lightbill': 2675, 'thers': 4404, 'lier': 2671, 'dhun': 1483, 'mood': 2940, 'aise': 488, 'thodi': 4424, 'der': 1444, 'mein': 2842, 'etni': 1709, 'aachi': 375, 'liae': 2667, 'shittiest': 4017, 'conformation': 1219, 'pic': 3284, 'combination': 1153, 'contradict': 1251, 'dual': 1580, 'primary': 3393, 'slot': 4073, 'secondary': 3953, 'considers': 1231, 'depend': 1441, 'accepting': 410, 'requested': 3723, 'remaining': 3698, 'menas': 2849, '25th': 162, 'waya': 4813, 'swnd': 4303, '146715': 67, 'link': 2688, 'prizze': 3398, 'ghjko': 2021, 'plase': 3302, 'लर': 5045, 'manohar519': 2798, 'mahavitaran': 2770, 'original': 3149, 'receipt': 3569, 'sponsor': 4152, '608308': 285, 'champcash': 1052, 'अपन': 4963, 'आमदन': 4972, 'धन': 5013, '7253989490': 305, 'सबक': 5051, 'घर': 5004, 'रत': 5041, 'मह': 5037, 'कम': 4990, 'गर': 5002, 'लग': 5044, 'दम': 5012, 'लक': 5043, 'sponser': 4151, 'आप': 4968, 'सब': 5050, 'इल': 4975, 'सबस': 5052, 'पहल': 5024, 'वह': 5046, 'उस': 4980, 'अब': 4964, 'sing': 4053, 'champ': 1051, 'करक': 4992, 'भर': 5034, 'आपस': 4971, 'saponser': 3893, 'आपक': 4969, 'उन': 4977, 'सभ': 5053, 'करन': 4994, 'तथ': 5008, 'हर': 5058, 'नट': 5014, 'खन': 4998, 'सर': 5056, 'इस': 4976, 'तरह': 5009, 'ऐस': 4985, 'नम': 5015, 'आग': 4967, 'उनक': 4978, 'challenge': 1048, 'रन': 5042, 'आएग': 4966, 'इतन': 4974, 'अगर': 4962, 'करव': 4995, 'unlimited': 4631, 'inviting': 2436, 'income': 2342, 'rank': 3529, 'पय': 5020, 'बदल': 5027, 'कभ': 4989, '90856': 346, 'throw': 4436, 'foot': 1902, 'milestone': 2882, 'world': 4898, 'feedbacks': 1832, 'bindass': 857, 'isse': 2457, 'dhanshu': 1480, 'dekhi': 1423, 'meine': 2843, 'self': 3974, '4g': 253, 'fault': 1816, 'payable': 3214, 'ruppes': 3853, 'ten': 4355, 'trustable': 4557, 'featured': 1824, 'greate': 2081, 'hehehe': 2187, 'failing': 1791, 'aacount': 376, 'ce': 1034, 'announce': 544, 'sealdha': 3942, 'kolkata': 2589, 'rechargemore': 3583, 'engage': 1673, 'quotation': 3501, 'halo': 2124, '2060': 137, 'qick': 3482, 'prefeeded': 3379, 'powered': 3362, 'prank': 3373, 'oparator': 3121, 'setter': 3999, 'reachrge': 3552, '59pm': 276, '96981': 360, '96998': 361, '97124': 362, 'hold': 2231, 'hurt': 2280, 'forgive': 1908, 'bye': 971, '98729': 364, '98723': 363, 'transected': 4526, 'patna': 3211, 'source': 4126, 'moment': 2932, 'shutted': 4032, 'doubts': 1562, 'printable': 3394, 'bbps': 769, 'reference': 3640, 'fall': 1796, 'prey': 3389, 'government': 2068, 'licence': 2669, 'shameless': 4010, '113934': 33, 'dgvcl': 1479, 'gujarat': 2100, '1bill': 117, 'cashbal': 1021, 'hubli': 2269, 'dharwad': 1481, 'injoy': 2372, 'vil': 4759, 'expectations': 1753, 'reg': 3671, 'regret': 3679, 'officials': 3100, 'feed': 1830, 'spoil': 4147, 'referel': 3639, 'redemption': 3619, 'tracking': 4508, 'view': 4754, 'expiring': 1765, 't24': 4307, 'pack': 3171, 'bouquet': 922, 'welcome': 4828, 'promos': 3428, 'appreciated': 591, 'bohat': 889, 'realy': 3562, 'erriteted': 1697, 'convince': 1265, 'nailed': 2984, 'onchat': 3111, 'channel': 1058, 'superrr': 4270, 'useing': 4679, 'wouldn': 4914, 'experence': 1757, 'throught': 4435, 'tghe': 4373, 'avail': 669, 'earnings': 1613, 'restricate': 3758, 'promise': 3420, 'goodapps': 2053, 'casbeck': 1011, 'suffer': 4249, '07': 7, 'bear': 775, 'ekdam': 1640, 'gandi': 1984, 'connected': 1225, 'rvvnl': 3857, 'saver': 3911, 'performs': 3252, 'becouse': 785, 'goodvai': 2055, 'nikky': 3043, 'remarkable': 3699, 'milega': 2881, 'khuch': 2564, 'badi': 710, 'bakavs': 718, 'bone': 895, 'average': 673, 'firstly': 1872, 'developed': 1468, 'itself': 2468, 'looked': 2718, '1498': 73, 'kinds': 2572, 'thatgreat': 4387, 'careless': 1007, 'specified': 4136, 'template': 4353, 'promissing': 3424, 'stability': 4164, 'size': 4063, 'chores': 1105, 'worrying': 4901, 'minimum': 2891, 'tnk': 4472, 'reccomend': 3567, 'kia': 2566, 'bc': 770, 'nai': 2982, 'dia': 1484, 'loading': 2701, 'oprator': 3134, 'deficalt': 1418, 'unacceptable': 4607, '8days': 342, 'connecting': 1226, 'rs509': 3839, '273': 168, 'miss': 2902, 'west': 4833, 'reacharge': 3546, 'replies': 3715, 'pocket': 3323, 'havr': 2173, 'thwre': 4443, 'pf': 3270, 'essential': 1705, 'freeze': 1933, 'beta': 823, 'release': 3688, 'intentions': 2407, 'vague': 4705, 'lemme': 2648, 'whther': 4853, 'paymemt': 3224, 'checkout': 1086, 'whichever': 4845, 'donno': 1552, 'hurts': 2281, 'trustworthy': 4560, 'veenu7': 4724, '148rs': 70, '118': 37, 'faq': 1808, 'cashbook': 1024, '86': 331, '27': 165, 'blindly': 869, 'enhancements': 1679, 'module': 2924, 'amazyng': 522, 'worthless': 4909, 'boss': 911, 'disigmed': 1527, 'supportive': 4281, 'opened': 3123, 'foods': 1897, 'weekends': 4824, 'ankitchandarana0': 542, 'highest': 2215, '1720': 97, 'goin': 2044, 'mack': 2756, '245': 155, 'rocking': 3819, 'expect': 1752, '140': 63, '280': 170, 'conventional': 1259, 'del': 1424, 'sick': 4033, 'nexus': 3022, 'unistall': 4626, 'cooolllll': 1273, 'overdue': 3163, 'debt': 1392, 'stating': 4179, 'businesses': 960, 'relevant': 3691, 'cooooool': 1274, 'pages': 3176, 'declare': 1400, 'redirected': 3621, 'mvie': 2974, 'introduces': 2427, 'forth': 1911, 'scratch': 3936, 'plizz': 3314, 'mony': 2939, 'dawnlode': 1367, 'plizzz': 3315, 'tips': 4462, '149': 71, 'clicked': 1131, 'brags': 924, 'telangana': 4344, 'criticizing': 1326, 'instance': 2390, '192': 112, '159': 84, 'mess': 2862, 'prise': 3395, '326': 203, 'loto': 2732, 'gg': 2019, 'thunder': 4441, 'tranfer': 4516, 'rahta': 3510, 'tho': 4423, 'tha': 4375, 'abhishek1078': 395, 'unnecessarily': 4635, '460': 244, 'vey': 4739, 'updateds': 4652, 'indicom': 2357, 'required': 3728, 'reward': 3787, 'vaishali8': 4707, 'bucks': 944, 'closure': 1137, 'travels': 4536, 'struggling': 4213, 'yar': 4940, 'crappy': 1308, 'pritam121': 3396, 'mcent': 2827, 'specify': 4137, 'applicability': 580, 'shandaar': 4011, 'stoped': 4198, 'fuddu': 1963, 'accha': 416, 'transact': 4519, 'unprofessional': 4638, 'behaviour': 799, 'convinience': 1269, 'happend': 2138, 'condutions': 1213, 'hide': 2211, 'ultimate': 4603, 'popularity': 3342, 'besy': 821, 'addressed': 455, 'tomorrow': 4484, 'vacation': 4703, 'mahadiscom': 2767, 'aug': 655, 'sep': 3984, 'amazingly': 518, 'audacity': 654, 'tracked': 4507, '94827': 356, 'occasion': 3085, 'celebrations': 1036, 'vacations': 4704, 'refrain': 3660, 'theirs': 4396, 'novel': 3066, 'resolutions': 3738, 'ayush15': 698, 'pr7j': 3369, 'u1leeax4fq': 4591, 'yaaaakkk': 4935, 'thu': 4439, 'baseless': 755, 'professionals': 3411, 'sorts': 4124, 'checks': 1087, 'provoked': 3461, 'liars': 2668, 'notice': 3063, 'bas': 752, 'jayanth17': 2493, 'binny': 858, 'shah': 4005, 'hve': 2285, '3099': 193, '558': 270, '11rs': 39, 'geat': 2000, '401': 230, 'sucessfull': 4243, 'aircel': 484, 'junk': 2521, 'inshaallah': 2381, '152': 80, 'odd': 3089, 'choosing': 1103, 'picture': 3288, 'anyway': 558, 'opportunity': 3132, 'khagi': 2559, 'hoya': 2262, 'te': 4334, 'ge': 1999, 'vaale': 4702, 'bs': 938, 'khe': 2563, 'asi': 618, 'krta': 2595, 'penda': 3240, 'bhot': 838, 'da': 1350, 'dva': 1600, 'hunde': 2277, 'nu': 3072, 'kreo': 2593, 'thainks': 4376, 'kfc': 2556, 'combo': 1155, 'honeyv': 2240, 'suprb': 4285, 'mindblowing': 2888, 'compact': 1176, 'consumption': 1240, 'literally': 2693, 'delivery': 1434, 'ir': 2440, 'production': 3409, 'appmana': 587, '99060': 365, 'bala': 730, 'dala': 1355, 'pa': 3169, 'giya': 2032, 'clearified': 1126, '35': 209, 'escalated': 1701, 'pizza': 3295, 'hut': 2282, 'yi': 4948, 'vidiocon': 4750, 'simplifies': 4049, 'poropeli': 3344, 'rolling': 3822, 'intutive': 2430, 'flow': 1890, 'advertised': 462, '203': 135, 'xtra': 4932, 'chargers': 1064, 'wondered': 4882, 'secons': 3956, 'headace': 2178, 'violation': 4761, 'wooh': 4888, 'rechargeing': 3582, 'hahaha': 2117, 'modes': 2923, 'updation': 4655, 'comment': 1163, 'facepalm': 1781, 'creative': 1316, 'sneha33': 4090, 'appears': 578, '21st': 147, 'loop': 2722, 'persons': 3265, 'osum': 3151, 'fit': 1875, 'gooooooood': 2062, 'continuous': 1249, 'deserved': 1449, 'ealier': 1605, 'gui': 2097, 'colorful': 1150, 'nooice': 3054, 'picking': 3286, 'amezon': 524, 'thas': 4385, 'whya': 4855, 'havnot': 2171, 'cashbach': 1017, 'aslo': 624, 'chitter': 1098, 'stutdown': 4219, 'biznes': 861, 'fb': 1819, 'chiting': 1096, 'noy': 3070, '2th': 187, '7th': 318, 'flaws': 1885, 'gap': 1985, 'reachge': 3550, 'accound': 419, 'worsted': 4904, 'rechage': 3577, 'cantact': 998, 'edge': 1626, 'replace': 3712, 'guransing': 2101, 'royal': 3829, 'overview': 3165, 'moto': 2947, 'sell': 3975, 'vb': 4721, 'athe': 641, 'snd': 4089, 'fraundent': 1924, 'harassed': 2146, 'usfull': 4686, 'loveing': 2736, '412': 234, 'opratore': 3135, 'generates': 2008, 'sane': 3892, 'advertising': 463, 'tricks': 4544, 'lure': 2745, 'slower': 4076, 'uska': 4689, 'av': 668, 'mil': 2878, 'exesting': 1742, 'battery': 764, 'refferd': 3650, 'rs10': 3831, 'rs50': 3838, 'akakakw': 491, 'aps': 599, 'niiki': 3038, 'scopt': 3930, 'ended': 1671, 'cunning': 1334, 'fisrt': 1873, 'score': 3931, 'column': 1151, 'poooor': 3336, 'goooooooood': 2063, 'worry': 4900, 'dwnld': 1601, '1279': 51, 'reports': 3721, '4star': 256, 'bkwass': 864, 'kha': 2557, 'dating': 1366, 'refar': 3633, 'bappa309': 749, 'created': 1314, 'frm': 1945, 'rideem': 3798, 'hotahe': 2252, 'duplicate': 1594, 'karte': 2542, '150cb': 77, 'reliability': 3692, 'jobs': 2510, 'tot': 4494, 'routine': 3828, 'impressions': 2326, 'lag': 2612, '83273239': 325, 'acha': 428, 'jisko': 2506, 'nahin': 2981, 'wahi': 4777, 'rakha': 3525, 'usme': 4692, 'ded': 1405, 'pvr': 3480, 'cinemas': 1114, 'chescom': 1092, 'machine': 2755, 'learning': 2639, 'tranzaction': 4533, 'mobiquick': 2918, 'manage': 2790, 'requests': 3725, 'pokemon': 3328, 'suffering': 4250, 'hampers': 2126, 'accepts': 411, 'social': 4094, 'caught': 1028, 'tells': 4350, 'expirince': 1764, 'integrations': 2402, 'conversing': 1262, 'terribly': 4363, 'returm': 3769, 'disadvantage': 1511, 'changes': 1056, 'samma': 3886, 'ithu': 2464, 'enaku': 1666, 'eppo': 1692, 'irukkum': 2447, 'sara': 3894, 'protection': 3449, 'act': 437, 'interested': 2415, 'bet': 822, 'desuct': 1459, 'ballance': 733, '83192': 324, '120': 42, 'helping': 2198, 'deactivate': 1374, 'devices': 1474, '92916': 351, '29august': 176, '4sept': 255, '2018ko': 133, 'avi': 674, 'vapis': 4716, 'madhya': 2761, 'pradesh': 3371, 'notable': 3058, 'oooo': 3119, '8750409539': 336, 'tnx': 4473, 'c941464621381455': 974, 'frec': 1927, 'harge': 2151, 'decide': 1396, 'similar': 4044, 'near': 3002, 'unlock': 4633, 'stoned': 4196, 'weed': 4822, 'contrary': 1252, 'goodbye': 2054, 'moreover': 2943, 'enjoing': 1680, 'manish169': 2796, 'uper': 4656, 'piece': 3289, 'hanging': 2134, 'hugh': 2271, 'confortable': 1220, '933': 352, 'jaogeeee': 2486, 'problm': 3402, 'elegant': 1648, 'bold': 892, 'gracefully': 2075, 'easiest': 1620, 'proportional': 3443, 'banned': 746, 'canlb': 995, 'mppkvvcl': 2953, 'jbp': 2496, 'jabalpur': 2474, 'cities': 1117, 'handover': 2130, 'traied': 4512, 'goog': 2058, 'weight': 4827, 'pgvcl': 3271, 'member': 2846, 'automatic': 665, 'managemwnt': 2792, 'reinstalling': 3684, 'bengal': 813, 'amounts': 530, 'justice': 2524, 'absu': 405, 'consistent': 1232, 'browsing': 937, 'scheme': 3927, 'mr': 2955, 'invested': 2432, 'burden': 955, 'billpayment': 852, 'wondering': 4885, 'settle': 4002, 'tweets': 4577, 'facade': 1777, 'michael': 2874, 'kitna': 2577, 'fhaltu': 1846, 'banaya': 740, 'growth': 2089, 'mesmerising': 2861, 'addict': 449, 'returning': 3772, 'dosto': 1559, 'es': 1700, 'phale': 3273, 'sochna': 4093, 'galti': 1983, 'lena': 2649, 'mne': 2909, 'aritel': 606, 'inhone': 2366, 'diye': 1537, 'banana': 737, 'liy': 2696, '389': 218, 'bay': 766, 'inke': 2374, 'gescom': 2013, 'trancation': 4515, 'jay': 2492, 'prakash0': 3372, 'debi4': 1387, 'rs30': 3836, 'susseful': 4292, 'sloved': 4074, '5hours': 278, 'ps': 3463, 'essentially': 1706, 'combining': 1154, 'cluttering': 1139, 'additional': 453, 'grocery': 2086, 'scrape': 3935, 'collection': 1148, 'encashea': 1667, 'amajon': 515, 'taped': 4321, 'checking': 1085, 'longer': 2716, 'bast': 759, 'oooooo': 3120, 'incurring': 2350, 'techniques': 4339, 'firms': 1870, 'spon': 4150, '422685': 236, 'hasslefree': 2160, 'lacks': 2611, 'srishti23': 4160, 'ivr': 2472, 'meet': 2840, 'balne': 735, 'sluggish': 4078, 'suppor': 4277, 'improvemts': 2332, 'questions': 3490, 'gsrtc': 2091, 'city': 1118, 'stands': 4170, 'competition': 1183, 'facke': 1785, 'vidyasagar': 4752, 'hay': 2174, 'session': 3997, 'fixing': 1879, 'gouranga9': 2067, 'meaningful': 2834, 'him': 2220, '12rs': 53, '38': 217, 'crazy': 1312, 'upcl': 4649, 'six': 4062, 'deepak35': 1415, 'referl': 3641, 'seaport': 3945, 'bahot': 714, 'achha': 430, 'recarge': 3566, 'unpaid': 4637, 'texts': 4370, 'reedemable': 3627, 'toooooooo': 4490, 'clever': 1129, 'bekarr': 804, 'hr': 2263, 'topup': 4492, 'aware': 679, 'deducts': 1414, 'covenient': 1303, 'fund': 1972, 'repaid': 3709, 'hang': 2133, 'postpade': 3356, 'debasish34': 1386, 'fetches': 1842, 'travel': 4535, 'rechared': 3578, 'shaktisinh3': 4007, 'ed': 1625, 'fraus': 1925, '93418': 353, 'kute': 2605, 'haramy': 2145, 'bananey': 738, 'dushyant25': 1598, 'cspdcl': 1331, 'cseb': 1330, 'forcing': 1905, 'regard': 3672, 'urgent': 4668, 'chrome': 1108, 'logged': 2710, 'retured': 3768, 'conflrmation': 1218, '209311': 139, 'resived': 3736, 'sala': 3876, 'accout': 423, '24hours': 156, 'suport': 4272, 'awosome': 690, 'tri': 4542, 'faboulus': 1775, 'providers': 3457, 'ways': 4814, 'rubbish': 3841, '71': 301, 'lutne': 2747, 'moka': 2929, 'giftcard': 2023, 'chalte': 1050, 'wakt': 4782, 'rehata': 3683, 'consider': 1229, 'erode': 1695, 'bypass': 973, 'redbus': 3612, '137926': 61, 'becase': 781, 'conveince': 1254, 'payzapp': 3234, 'theif': 4394, 'fantabulous': 1806, 'narrowing': 2992, 'butter': 963, '850': 329, 'abhibus': 394, '795': 316, '153366': 81, 'host': 2250, 'maybe': 2823, 'avenues': 672, 'afte': 467, '92756': 349, '130421': 57, 'chhose': 1094, 'apyment': 601, '148': 69, 'retuen': 3767, 'sercice': 3987, 'resume': 3761, 'subsequent': 4228, 'operates': 3127, 'itnie': 2466, 'mehngai': 2841, 'bachat': 705, 'achhi': 431, 'lagti': 2616, '1835': 108, '3670': 214, 'screenshot': 3938, 'sleek': 4070, 'retering': 3764, 'patience': 3210, 'revising': 3782, 'obstruction': 3084, 'unsucceesful': 4642, 'purely': 3475, 'luke': 2744, 'superier': 4267, 'ibm': 2289, 'watson': 4810, 'honestly': 2239, 'md': 2828, 'naqib': 2991, 'rahman': 3509, 'jun': 2518, 'edt': 1628, 'mojo6619000j1': 2927, '550': 269, 'mojo6619000j18806810': 2928, '560': 271, 'reliance': 3694, '9930977423': 366, 'pmt': 3322, 'interactivity': 2413, '590': 275, 'fr': 1918, 'lack': 2609, 'deactivation': 1375, 'named': 2987, 'denzel': 1439, 'reddy': 3613, 'irritable': 2445, 'yup': 4956, 'servies': 3996, '1018': 16, 'conservative': 1228, 'apdcl': 566, 'assam': 627, 'distribution': 1534, 'corporation': 1277, 'recherge': 3589, 'uhbvn': 4600, 'rely': 3697, 'sudden': 4246, 'interest': 2414, 'disconnect': 1516, 'supply': 4276, 'eant': 1606, 'cancle': 993, 'cancleation': 994, 'suupport': 4293, 'relpy': 3696, 'posting': 3354, 'deatils': 1385, 'journey': 2515, 'pune': 3467, 'verma': 4732, 'rajendra': 3520, 'nagar': 2979, 'seate': 3949, '3l': 224, 'rahul': 3511, 'gite': 2027, 'cabdriver': 977, 'pinned': 3293, 'awesomme': 687, 'supr': 4284, 'rooms': 3826, 'cleartrip': 1128, 'messaged': 2864, 'refundable': 3665, 'medium': 2838, 'wonder': 4881, 'revise': 3781, 'busn': 961, 'counting': 1291, 'geediness': 2001, 'systematically': 4305, 'arranged': 610, 'port': 3345, 'choice': 1100, 'bh': 829, 'mnp': 2910, 'selects': 3973, 'identify': 2295, 'sravan10': 4157, 'password': 3205, 'electic': 1644, 'kharid': 2561, 'robin': 3814, '91869': 348, '09': 8, 'payapl': 3215, 'gjb': 2033, 'thorough': 4425, 'client': 1133, 'executed': 1739, 'wrking': 4921, 'extent': 1768, 'abt': 407, 'palces': 3185, 'rescue': 3732, 'mpvv': 2954, 'agent': 474, 'nicr': 3034, 'dicounts': 1486, 'cancellation': 991, 'siddharth22': 4034, 'reduces': 3625, 'frauds': 1921, 'cares': 1008, 'completing': 1196, 'personality': 3262, 'usful': 4685, 'penmen': 3242, 'totaly': 4497, 'recharg': 3579, '419': 235, 'wort': 4907, 'suitable': 4255, '29th': 177, 'january': 2484, 'fingers': 1865, 'tke': 4469, 'prgrm': 3390, 'st': 4163, '1200rs': 44, 'balnce': 734, 'deciuted': 1399, 'acct': 425, 'cashbaxk': 1022, 'assurance': 633, '73621': 306, 'cover': 1304, 'veey': 4725, 'comprehensive': 1202, 'followed': 1894, 'recovered': 3606, 'responds': 3750, 'ups': 4663, 'posted': 3353, 'aborted': 400, 'appeal': 576, 'gain': 1980, 'subscribers': 4227, 'puchhte': 3466, 'kai': 2531, 'sakte': 3875, 'lete': 2655, 'submit': 4224, 'wht': 4852, 'hall': 2123, 'wst': 4927, '215': 145, 'costomar': 1283, 'immideatly': 2315, 'theatres': 4393, 'names': 2988, 'law': 2631, 'prsn': 3462, 'jabb': 2475, 'sistm': 4058, 'ataa': 638, 'voh': 4769, 'inko': 2375, 'apna': 571, 'rakhna': 3526, 'chaiaa': 1045, 'bhoat': 837, 'ati': 642, 'baki': 720, '94751': 355, '52hs': 268, 'girt': 2026, 'naturally': 2995, 'decreasing': 1404, 'correction': 1279, 'epay': 1689, 'letter': 2658, 'awasom': 682, 'th': 4374, '84703': 326, 'aor': 563, 'howi': 2261, '60hours': 286, 'anniversary': 543, 'capability': 999, 'resources': 3743, 'conduct': 1212, 'contests': 1246, 'epic': 1691, 'perform': 3250, 'rs400': 3837, '1179': 36, 'lethargic': 2656, 'concerns': 1209, 'installation': 2387, 'chasing': 1069, 'acknowledge': 433, 'addressing': 456, 'lodge': 2708, 'reduce': 3623, 'turnaround': 4572, 'goood': 2060, 'thankful': 4379, 'makers': 2783, 'transferred': 4530, 'eever': 1630, 'releasing': 3689, 'wonferfull': 4886, 'dn': 1538, 'instal': 2385, '9a11468602105945': 370, 'filing': 1852, 'robbed': 3811, 'detials': 1465, 'didnot': 1489, 'rcv': 3542, '569': 272, 'fc': 1820, 'admin': 460, '30rupees': 196, 'perry': 3258, '1270rs': 49, '7042883960': 299, '153383': 82, 'sakath': 3872, 'bega': 791, 'aythu': 697, 'addu': 458, 'kuda': 2601, 'nandu': 2990, 'itu': 2470, '1250': 47, 'introdice': 2424, 'itttt': 2469, 'alp': 506, 'spoiling': 4148, 'issued': 2459, 'country': 1292, 'courier': 1297, '5t': 281, 'gb': 1997, 'ram': 3527, 'befor': 789, 'nis': 3044, 'robotic': 3817, 'incorrect': 2345, '354': 211, '304': 191, 'worts': 4911, 'murchent': 2970, 'beaware': 779, 'capping': 1002, 'utilizing': 4699, 'results': 3760, 'loosing': 2723, 'input': 2378, 'layman': 2632, 'mom': 2930, '125': 46, '29': 174, 'guarantee': 2093, 'wise': 4865, 'dated': 1364, 'withdrawal': 4872, '635': 291, '5k': 279, 'agree': 477, 'incident': 2339, 'inform': 2363, 'waaoo': 4776, 'awsm': 691, 'caseback': 1013, 'richarge': 3795, '106798': 19, 'bookefand': 900, 'pillar': 3290, 'window': 4863, 'errer': 1696, 'keshe': 2552, 'ues': 4598, 'subham7': 4222, 'ppao': 3364, 'awsum': 695, 'texted': 4368, 'conviniece': 1268, 'mayur': 2824, 'rajesh6371': 3521, 'intention': 2406, 'penny': 3243, 'red': 3611, 'rly': 3809, 'rules': 3845, 'irony': 2442, 'urself': 4670, 'uninstallling': 4624, 'downloadin': 1567, 'magar': 2762, 'math': 2817, 'kew': 2553, 'amounted': 529, 'to145': 4476, 'lesser': 2652, 'ifi': 2303, 'magical': 2764, 'naya': 2998, 'soch': 4092, 'sundth': 4257, 'chuki': 1110, 'pase': 3201, 'supper': 4275, 'ans': 548, 'soothing': 4120, 'evert': 1717, 'watching': 4807, '407': 232, '208593': 138, 'lagoon': 2614, 'bes': 816, 'zabardast': 4958, 'speech': 4138, 'unistalled': 4627, 'existent': 1745, 'honouring': 2242, 'schemes': 3928, '11th': 40, 'ignoring': 2304, 'costs': 1284, '5days': 277, '10days': 22, 'accessing': 415, 'promptly': 3436, 'conveniently': 1258, 'ia': 2287, 'rated': 3534, 'reversed': 3775, 'reverse': 3774, 'excess': 1734, 'uah': 4593, '79400': 315, 'retained': 3763, '32': 201, 'usko': 4690, 'muje': 2965, 'kaha': 2529, 'contect': 1244, 'kise': 2575, 'ksre': 2598, 'raining': 3512, 'haripada': 2152, 'rhega': 3793, 'generation': 2009, 'ridiculuous': 3800, 'traditional': 4511, 'fraudster': 1922, 'dewali': 1478, 'festival': 1840, 'celebrating': 1035, 'december': 1394, '119005': 38, 'helful': 2189, 'awaresome': 681, 'raj2x4': 3516, 'gmailcom': 2038, 'listens': 2692, 'weather': 4818, 'aapp': 386, 'sim448': 4043, '88395': 341, 'teem': 4343, 'tries': 4546, 'em': 1654, 'define': 1419, 'b2c': 699, 'bots': 916, 'dynamics': 1603, 'cheeter': 1090, 'lame': 2617, 'skip': 4065, 'displaying': 1530, 'coad': 1142, 'convinced': 1266, 'indians': 2356, 'gimmick': 2024, 'pointless': 3326, 'directed': 1506, 'fastly': 1815, 'properties': 3442, 'çust': 4961, 'involve': 2438, 'aoffer': 561, 'interactively': 2412, 'fingertips': 1866, 'proud': 3450, 'stilll': 4194, 'replay': 3713, 'panel': 3187, 'organization': 3148, 'bagging': 713, 'eas': 1617, 'viewing': 4756, 'verifing': 4730, 'displayed': 1529, 'amd': 523, 'caskback': 1025, '130': 55, 'pooja': 3334, 'tiz': 4465, 'scrap': 3934, 'bharat': 833, 'ratna': 3539, 'emil': 1662, 'stiil': 4190, 'protect': 3448, '5801': 273, 'validated': 4710, 'reviewed': 3779, 'reacting': 3553, 'desreves': 1457, 'mohammed43': 2925, 'emi': 1661, 'enhanced': 1678, 'payback': 3216, 'anount': 547, 'fresh': 1939, 'falls': 1798, 'halfway': 2122, 'criteria': 1324, 'matching': 2814, 'story': 4204, 'region': 3674, 'upar': 4647, 'amol57': 525, 'bore': 909, 'competitive': 1184, 'gotta': 2066, 'comeup': 1158, 'elusive': 1653, 'cripple': 1323, 'pockets': 3324, 'covers': 1305, 'nand7': 2989, 'hopeful': 2244, 'clutter': 1138, 'payer': 3221, 'chittaranjan6': 1097, 'progressing': 3417, 'direction': 1507, 'usual': 4693, 'intamernet': 2399, 'cousins': 1299, 'irk': 2441, 'maximum': 2821, 'somewhere': 4112, 'naic': 2983, '3210': 202, 'petition': 3269, 'pmo': 3321, 'tnz': 4474, 'word': 4890, 'seats': 3950, 'format': 1910, 'sab': 3861, '6rs': 295, 'flatform': 1882, 'stupidity': 4218, 'improves': 2333, 'customvideoz': 1342, 'fur': 1975, '4esatar': 252, '505': 261, 'queued': 3491, 'immeditely': 2313, 'bhaii': 831, 'dalu': 1359, 'everythning': 1723, 'amazonpay': 521, '1273': 50, 'kidhar': 2567, 'gol': 2046, 'मत': 5035, 'एप': 4983, 'यग': 5038, 'यद': 5039, 'आपन': 4970, 'बड़': 5033, 'पए': 5018, 'कट': 4987, 'चल': 5005, 'कह': 4996, 'गए': 4999, 'षण': 5047, 'खत': 4997, 'fot': 1914, 'dd': 1372, 'kinda': 2570, 'heck': 2184, 'unbelievably': 4611, 'commited': 1168, 'booster': 906, 'dev': 1466, 'assist': 628, 'ritrn': 3807, 'steals': 4185, 'desing': 1452, 'afford': 465, 'meal': 2831, 'apepdcl': 567, '48hours': 248, '205417': 136, 'disappointment': 1515, 'aweful': 685, 'tag': 4310, 'writes': 4918, '195': 113, 'ripp': 3803, 'oprater': 3133, 'jaipur': 2480, 'harayana': 2147, 'border': 908, 'police': 3329, 'driver': 1574, 'helper': 2195, 'ran': 3528, 'leaving': 2643, 'passengers': 3204, 'rented': 3707, 'double': 1560, '169231': 91, 'lacking': 2610, 'fist': 1874, 'rajkumar38': 3522, 'thnku': 4421, 'dump': 1590, 'jill': 2501, 'dubious': 1581, 'bears': 776, 'wost': 4912, 'tharun41': 4384, 'gesture': 2014, 'aacha': 374, 'exxcellent': 1772, 'uhnderstandig': 4601, 'revolutionize': 3786, 'economy': 1624, 'habits': 2115, 'impressive': 2327, 'turned': 4573, 'advertise': 461, 'billpebachat': 854, 'misusing': 2907, 'ones': 3115, 'flights': 1887, 'quickest': 3495, 'slip': 4072, 'complant': 1191, 'barbaad': 751, 'eerr': 1629, 'dalo': 1358, 'pratima3': 3376, 'aapko': 385, 'humko': 2276, 'pehle': 3237, '3070rs': 192, '87030': 333, '87042': 334, '87195': 335, 'decent': 1395, '346': 207, 'rupies': 3852, 'alerady': 494, 'mint': 2895, 'mam': 2787, 'privacy': 3397, 'savvy': 3915, 'behaves': 796, 'abnormally': 399, 'recognises': 3596, 'picks': 3287, 'circles': 1116, 'wishes': 4867, 'technologyyreloaded': 4341, 'blogspot': 874, 'multitasking': 2968, 'appreciating': 593, 'jodhpur': 2511, 'vidut': 4751, 'vibhag': 4743, 'vidhut': 4748, 'pissed': 3294, 'brings': 929, 'weekly': 4825, 'montly': 2938, 'rcharges': 3541, 'wrt': 4926, 'purchass': 3473, 'packs': 3172, 'reserved': 3735, 'semma': 3976, 'intha': 2421, 'exicted': 1743, 'reported': 3719, 'dynamic': 1602, 'brokerage': 933, 'delink': 1431, 'struct': 4212, '2k': 184, 'beginning': 794, 'swaroop7': 4296, 'telephone': 4346, '333': 206, 'spoke': 4149, 'switching': 4301, '434': 237, '6th': 296, '2days': 180, 'requesting': 3724, 'stil': 4191, 'ffg': 1845, 'defrauds': 1421, 'partnership': 3197, 'hefty': 2186, 'realize': 3559, 'ain': 482, 'banglore': 742, 'international': 2418, 'airport': 485, 'iim': 2306, 'canceled': 990, 'ita': 2463, 'nvr': 3080, 'mariraj': 2804, 'development': 1472, 'classes': 1123, 'proses': 3447, 'pakka': 3183, 'hip': 2224, 'revenge': 3773, 'guiding': 2099, 'capital': 1000, 'grow': 2088, 'stv': 4220, 'myshow': 2976, '123': 45, 'msed': 2957, 'spontaneous': 4154, 'fact': 1786, 'seamlessly': 3944, 'sincere': 4052, 'devine': 1475, 'count': 1290, 'sathish': 3899, 'yaa': 4934, 'miscommunication': 2899, 'capped': 1001, 'noth': 3060, 'ng': 3024, 'tooooo': 4489, 'sceams': 3925, 'gooooood': 2061, '25dec': 161, 'lapse': 2622, 'neighter': 3013, 'makeing': 2782, 'sold': 4097, 'buyed': 967, 'stock': 4195, 'rs100': 3832, 'achi': 432, 'niccee': 3029, 'bio': 859, 'sony': 4115, 'xperia': 4931, 'ipl': 2439, 'test': 4364, 'thoroughly': 4426, 'uploading': 4660, 'funding': 1973, 'pleasing': 3311, 'withdraw': 4871, '220': 149, 'staffer': 4166, 'nvdrji': 3079, '2jwxfgcd': 183, '145552': 65, 'filed': 1851, 'orderida731466490982208': 3145, 'amount350': 528, 'accountid': 421, 'ph': 3272, 'number027760001959': 3075, 'serviceelectricity': 3994, '70': 297, 'time2': 4453, 'mid': 2875, 'wit': 4868, '181516': 104, '179962': 99, 'seven': 4003, 'digesting': 1497, 'insufficient': 2396, 'wiped': 4864, 'loaded': 2700, 'levied': 2660, 'hardwork': 2150, 'mahaveer4': 2769, 'bons': 896, '7733886940': 312, 'skeptical': 4064, 'stayed': 4182, 'smal': 4079, '95837': 359, '222': 150, 'wodafone': 4877, 'dedicted': 1407, '167': 90, 'imstant': 2336, 'dumbness': 1589, 'places': 3298, 'kodus': 2587, 'ceo': 1040, 'havnt': 2172, 'is86804': 2449, 'operotor': 3130, 'shameful': 4009, 'portrayed': 3348, 'suparrr': 4260, '996': 367, 'sort': 4122, 'mine': 2890, 'invitation': 2433, 'fedup': 1828, 'importants': 2322, 'holder': 2232, 'falling': 1797, 'cheery': 1089}\n"
          ],
          "name": "stdout"
        }
      ]
    },
    {
      "cell_type": "code",
      "metadata": {
        "id": "p-EP_WZEzAiq",
        "colab_type": "code",
        "colab": {}
      },
      "source": [
        "from sklearn_pandas import DataFrameMapper\n",
        "mapper = DataFrameMapper([\n",
        "    (['App Version Code','App Version Name'], None),\n",
        "    ('Review Text',TfidfVectorizer()),('id',TfidfVectorizer())\n",
        "])\n",
        "X=mapper.fit_transform(train)"
      ],
      "execution_count": 0,
      "outputs": []
    },
    {
      "cell_type": "code",
      "metadata": {
        "id": "Z2l7_22vWbtu",
        "colab_type": "code",
        "colab": {}
      },
      "source": [
        "from sklearn.feature_extraction.text import TfidfTransformer\n",
        "tfidfconverter = TfidfTransformer()\n",
        "X = tfidfconverter.fit_transform(X).toarray()"
      ],
      "execution_count": 0,
      "outputs": []
    },
    {
      "cell_type": "code",
      "metadata": {
        "id": "5SyQBeHo9gJ3",
        "colab_type": "code",
        "colab": {}
      },
      "source": [
        ""
      ],
      "execution_count": 0,
      "outputs": []
    },
    {
      "cell_type": "code",
      "metadata": {
        "id": "K9x_JDvLNcni",
        "colab_type": "code",
        "colab": {}
      },
      "source": [
        "Y=mapper.transform(test)"
      ],
      "execution_count": 0,
      "outputs": []
    },
    {
      "cell_type": "code",
      "metadata": {
        "id": "u0ujZcS7QLmW",
        "colab_type": "code",
        "outputId": "95539660-15f3-4293-bbcc-82a5e81b92b7",
        "colab": {
          "base_uri": "https://localhost:8080/",
          "height": 34
        }
      },
      "source": [
        "Y.shape"
      ],
      "execution_count": 32,
      "outputs": [
        {
          "output_type": "execute_result",
          "data": {
            "text/plain": [
              "(1423, 29145)"
            ]
          },
          "metadata": {
            "tags": []
          },
          "execution_count": 32
        }
      ]
    },
    {
      "cell_type": "code",
      "metadata": {
        "id": "r8zyMAzwNv-c",
        "colab_type": "code",
        "colab": {
          "base_uri": "https://localhost:8080/",
          "height": 34
        },
        "outputId": "3a441a4c-22f3-472c-ded6-81ab66b388ac"
      },
      "source": [
        "X.shape"
      ],
      "execution_count": 24,
      "outputs": [
        {
          "output_type": "execute_result",
          "data": {
            "text/plain": [
              "(5692, 29145)"
            ]
          },
          "metadata": {
            "tags": []
          },
          "execution_count": 24
        }
      ]
    },
    {
      "cell_type": "code",
      "metadata": {
        "id": "vN9SZIOc57z-",
        "colab_type": "code",
        "outputId": "7021ae8d-d9b8-49fe-92b6-d944155958b2",
        "colab": {
          "base_uri": "https://localhost:8080/",
          "height": 119
        }
      },
      "source": [
        "train.dtypes"
      ],
      "execution_count": 0,
      "outputs": [
        {
          "output_type": "execute_result",
          "data": {
            "text/plain": [
              "id                   object\n",
              "App Version Code    float64\n",
              "App Version Name    float64\n",
              "Review Text          object\n",
              "Star Rating           int64\n",
              "dtype: object"
            ]
          },
          "metadata": {
            "tags": []
          },
          "execution_count": 102
        }
      ]
    },
    {
      "cell_type": "code",
      "metadata": {
        "id": "bCBG66o4NvS8",
        "colab_type": "code",
        "colab": {}
      },
      "source": [
        ""
      ],
      "execution_count": 0,
      "outputs": []
    },
    {
      "cell_type": "code",
      "metadata": {
        "id": "JezwEdxB6B_q",
        "colab_type": "code",
        "colab": {}
      },
      "source": [
        "y=train['Star Rating']"
      ],
      "execution_count": 0,
      "outputs": []
    },
    {
      "cell_type": "code",
      "metadata": {
        "id": "hzWSUKKQPvae",
        "colab_type": "code",
        "outputId": "fa336d3f-e741-4e82-9f79-223039834495",
        "colab": {
          "base_uri": "https://localhost:8080/",
          "height": 34
        }
      },
      "source": [
        "X.shape"
      ],
      "execution_count": 0,
      "outputs": [
        {
          "output_type": "execute_result",
          "data": {
            "text/plain": [
              "(5692, 29145)"
            ]
          },
          "metadata": {
            "tags": []
          },
          "execution_count": 183
        }
      ]
    },
    {
      "cell_type": "code",
      "metadata": {
        "id": "9z-ppsSR_l_s",
        "colab_type": "code",
        "outputId": "36a76a8c-6e75-4211-bb06-944fb009d7c2",
        "colab": {
          "base_uri": "https://localhost:8080/",
          "height": 153
        }
      },
      "source": [
        "combined=pd.concat([train,test])"
      ],
      "execution_count": 0,
      "outputs": [
        {
          "output_type": "stream",
          "text": [
            "/usr/local/lib/python3.6/dist-packages/ipykernel_launcher.py:1: FutureWarning: Sorting because non-concatenation axis is not aligned. A future version\n",
            "of pandas will change to not sort by default.\n",
            "\n",
            "To accept the future behavior, pass 'sort=False'.\n",
            "\n",
            "To retain the current behavior and silence the warning, pass 'sort=True'.\n",
            "\n",
            "  \"\"\"Entry point for launching an IPython kernel.\n"
          ],
          "name": "stderr"
        }
      ]
    },
    {
      "cell_type": "code",
      "metadata": {
        "id": "k8dzbHzIAKNm",
        "colab_type": "code",
        "outputId": "27d85ed4-ae6f-4829-9451-aa29264249bb",
        "colab": {
          "base_uri": "https://localhost:8080/",
          "height": 34
        }
      },
      "source": [
        "combined.shape"
      ],
      "execution_count": 0,
      "outputs": [
        {
          "output_type": "execute_result",
          "data": {
            "text/plain": [
              "(7115, 5)"
            ]
          },
          "metadata": {
            "tags": []
          },
          "execution_count": 125
        }
      ]
    },
    {
      "cell_type": "code",
      "metadata": {
        "id": "zCsce8iRKNu0",
        "colab_type": "code",
        "outputId": "fd8de370-5f2a-4abd-f404-94c3d8eab7ef",
        "colab": {
          "base_uri": "https://localhost:8080/",
          "height": 204
        }
      },
      "source": [
        "train.head()"
      ],
      "execution_count": 0,
      "outputs": [
        {
          "output_type": "execute_result",
          "data": {
            "text/html": [
              "<div>\n",
              "<style scoped>\n",
              "    .dataframe tbody tr th:only-of-type {\n",
              "        vertical-align: middle;\n",
              "    }\n",
              "\n",
              "    .dataframe tbody tr th {\n",
              "        vertical-align: top;\n",
              "    }\n",
              "\n",
              "    .dataframe thead th {\n",
              "        text-align: right;\n",
              "    }\n",
              "</style>\n",
              "<table border=\"1\" class=\"dataframe\">\n",
              "  <thead>\n",
              "    <tr style=\"text-align: right;\">\n",
              "      <th></th>\n",
              "      <th>id</th>\n",
              "      <th>App Version Code</th>\n",
              "      <th>App Version Name</th>\n",
              "      <th>Review Text</th>\n",
              "      <th>Star Rating</th>\n",
              "    </tr>\n",
              "  </thead>\n",
              "  <tbody>\n",
              "    <tr>\n",
              "      <th>0</th>\n",
              "      <td>b817b0f0-a2f8-4c9d-a5f6-d3fbf8b1d7e9</td>\n",
              "      <td>71.250329</td>\n",
              "      <td>2.290832</td>\n",
              "      <td>Very bad wallet balance not use.</td>\n",
              "      <td>1</td>\n",
              "    </tr>\n",
              "    <tr>\n",
              "      <th>1</th>\n",
              "      <td>c7844e8f-56c1-487b-ae3e-df2fdf4c1767</td>\n",
              "      <td>43.000000</td>\n",
              "      <td>2.300000</td>\n",
              "      <td>Froud app i recharge 199 but not done also sen...</td>\n",
              "      <td>1</td>\n",
              "    </tr>\n",
              "    <tr>\n",
              "      <th>2</th>\n",
              "      <td>93ff57f7-9e02-4fa9-b779-3db82b8af0a4</td>\n",
              "      <td>52.000000</td>\n",
              "      <td>2.120000</td>\n",
              "      <td>Waste to write comments also</td>\n",
              "      <td>2</td>\n",
              "    </tr>\n",
              "    <tr>\n",
              "      <th>3</th>\n",
              "      <td>df2dcdef-c09a-4f35-afab-e1231d3fec9a</td>\n",
              "      <td>62.000000</td>\n",
              "      <td>2.210000</td>\n",
              "      <td>Nice apo</td>\n",
              "      <td>5</td>\n",
              "    </tr>\n",
              "    <tr>\n",
              "      <th>4</th>\n",
              "      <td>11f8f968-4cec-4424-8427-9709ab05b5be</td>\n",
              "      <td>69.000000</td>\n",
              "      <td>2.280000</td>\n",
              "      <td>Good nice app</td>\n",
              "      <td>5</td>\n",
              "    </tr>\n",
              "  </tbody>\n",
              "</table>\n",
              "</div>"
            ],
            "text/plain": [
              "                                     id  ...  Star Rating\n",
              "0  b817b0f0-a2f8-4c9d-a5f6-d3fbf8b1d7e9  ...            1\n",
              "1  c7844e8f-56c1-487b-ae3e-df2fdf4c1767  ...            1\n",
              "2  93ff57f7-9e02-4fa9-b779-3db82b8af0a4  ...            2\n",
              "3  df2dcdef-c09a-4f35-afab-e1231d3fec9a  ...            5\n",
              "4  11f8f968-4cec-4424-8427-9709ab05b5be  ...            5\n",
              "\n",
              "[5 rows x 5 columns]"
            ]
          },
          "metadata": {
            "tags": []
          },
          "execution_count": 151
        }
      ]
    },
    {
      "cell_type": "code",
      "metadata": {
        "id": "_CdXeZwKPgtz",
        "colab_type": "code",
        "colab": {
          "base_uri": "https://localhost:8080/",
          "height": 119
        },
        "outputId": "50a8b295-f629-4dbb-e3b0-d4dddd6a581c"
      },
      "source": [
        "train.dtypes"
      ],
      "execution_count": 62,
      "outputs": [
        {
          "output_type": "execute_result",
          "data": {
            "text/plain": [
              "id                  object\n",
              "App Version Code     int64\n",
              "App Version Name     int64\n",
              "Review Text         object\n",
              "Star Rating          int64\n",
              "dtype: object"
            ]
          },
          "metadata": {
            "tags": []
          },
          "execution_count": 62
        }
      ]
    },
    {
      "cell_type": "code",
      "metadata": {
        "id": "Mt2sS0fWQtzR",
        "colab_type": "code",
        "colab": {}
      },
      "source": [
        "train['App Version Code']=train['App Version Code'].apply(np.int64)\n",
        "train['App Version Name']=train['App Version Name'].apply(np.int64)"
      ],
      "execution_count": 0,
      "outputs": []
    },
    {
      "cell_type": "code",
      "metadata": {
        "id": "nDsGyxCJPokl",
        "colab_type": "code",
        "colab": {
          "base_uri": "https://localhost:8080/",
          "height": 102
        },
        "outputId": "7468a97a-ba3a-41c7-8c40-408a803d27a6"
      },
      "source": [
        "test.dtypes"
      ],
      "execution_count": 60,
      "outputs": [
        {
          "output_type": "execute_result",
          "data": {
            "text/plain": [
              "id                  object\n",
              "App Version Code     int64\n",
              "App Version Name     int64\n",
              "Review Text         object\n",
              "dtype: object"
            ]
          },
          "metadata": {
            "tags": []
          },
          "execution_count": 60
        }
      ]
    },
    {
      "cell_type": "code",
      "metadata": {
        "id": "9LSikOtgP-JR",
        "colab_type": "code",
        "colab": {}
      },
      "source": [
        "test['App Version Code']=test['App Version Code'].apply(np.int64)\n",
        "test['App Version Name']=test['App Version Name'].apply(np.int64)"
      ],
      "execution_count": 0,
      "outputs": []
    },
    {
      "cell_type": "code",
      "metadata": {
        "id": "tu0ZHcPHBE1z",
        "colab_type": "code",
        "outputId": "bbfb6d0a-ff6e-4a2c-826f-ed540bae4690",
        "colab": {
          "base_uri": "https://localhost:8080/",
          "height": 119
        }
      },
      "source": [
        "combined.isnull().sum()"
      ],
      "execution_count": 0,
      "outputs": [
        {
          "output_type": "execute_result",
          "data": {
            "text/plain": [
              "App Version Code       0\n",
              "App Version Name       0\n",
              "Review Text            0\n",
              "Star Rating         1423\n",
              "id                     0\n",
              "dtype: int64"
            ]
          },
          "metadata": {
            "tags": []
          },
          "execution_count": 133
        }
      ]
    },
    {
      "cell_type": "code",
      "metadata": {
        "id": "mEDDDWkmKK8i",
        "colab_type": "code",
        "colab": {}
      },
      "source": [
        "features = ['id','App Version Code','App Version Name', 'Review Text']\n",
        "target = ['Star Rating']"
      ],
      "execution_count": 0,
      "outputs": []
    },
    {
      "cell_type": "code",
      "metadata": {
        "id": "KhkR9o_e7Nw2",
        "colab_type": "code",
        "colab": {}
      },
      "source": [
        "X_train, X_test, y_train, y_test = train_test_split(X,y , test_size=0.3, random_state=101)"
      ],
      "execution_count": 0,
      "outputs": []
    },
    {
      "cell_type": "code",
      "metadata": {
        "id": "CrDptysqO0L9",
        "colab_type": "code",
        "colab": {}
      },
      "source": [
        "from sklearn.tree import DecisionTreeClassifier"
      ],
      "execution_count": 0,
      "outputs": []
    },
    {
      "cell_type": "code",
      "metadata": {
        "id": "1QSIQsXpA-lE",
        "colab_type": "code",
        "outputId": "74c6c506-93e6-417d-c9dd-c1d4d6785fb8",
        "colab": {
          "base_uri": "https://localhost:8080/",
          "height": 119
        }
      },
      "source": [
        "rfc = DecisionTreeClassifier()\n",
        "rfc.fit(X, y)"
      ],
      "execution_count": 73,
      "outputs": [
        {
          "output_type": "execute_result",
          "data": {
            "text/plain": [
              "DecisionTreeClassifier(class_weight=None, criterion='gini', max_depth=None,\n",
              "                       max_features=None, max_leaf_nodes=None,\n",
              "                       min_impurity_decrease=0.0, min_impurity_split=None,\n",
              "                       min_samples_leaf=1, min_samples_split=2,\n",
              "                       min_weight_fraction_leaf=0.0, presort=False,\n",
              "                       random_state=None, splitter='best')"
            ]
          },
          "metadata": {
            "tags": []
          },
          "execution_count": 73
        }
      ]
    },
    {
      "cell_type": "code",
      "metadata": {
        "id": "3iOGXIA77e38",
        "colab_type": "code",
        "colab": {}
      },
      "source": [
        "# Testing the model\n",
        "predictions = rfc.predict(Y)"
      ],
      "execution_count": 0,
      "outputs": []
    },
    {
      "cell_type": "code",
      "metadata": {
        "id": "WKD8dgk4UzhR",
        "colab_type": "code",
        "colab": {}
      },
      "source": [
        "predictions = rfc.predict(X_test)"
      ],
      "execution_count": 0,
      "outputs": []
    },
    {
      "cell_type": "code",
      "metadata": {
        "id": "h_cpRBFT7ns0",
        "colab_type": "code",
        "outputId": "1846f0df-3c4c-4ddd-dad7-7bb994b313a0",
        "colab": {
          "base_uri": "https://localhost:8080/",
          "height": 34
        }
      },
      "source": [
        "predictions"
      ],
      "execution_count": 75,
      "outputs": [
        {
          "output_type": "execute_result",
          "data": {
            "text/plain": [
              "array([5, 2, 5, ..., 5, 1, 1])"
            ]
          },
          "metadata": {
            "tags": []
          },
          "execution_count": 75
        }
      ]
    },
    {
      "cell_type": "code",
      "metadata": {
        "id": "mYRhfX7b7zbj",
        "colab_type": "code",
        "colab": {}
      },
      "source": [
        "data={'Id':test['id'],'Star Rating':predictions}\n",
        "df=pd.DataFrame(data)\n",
        "df.to_csv('/content/drive/My Drive/predictions.csv')"
      ],
      "execution_count": 0,
      "outputs": []
    },
    {
      "cell_type": "code",
      "metadata": {
        "id": "hyZBL9VPS90q",
        "colab_type": "code",
        "colab": {
          "base_uri": "https://localhost:8080/",
          "height": 34
        },
        "outputId": "a93cfd77-43a1-40bf-8562-08861cb1a902"
      },
      "source": [
        "f1_score(y_test, predictions,average='macro')"
      ],
      "execution_count": 99,
      "outputs": [
        {
          "output_type": "execute_result",
          "data": {
            "text/plain": [
              "1.0"
            ]
          },
          "metadata": {
            "tags": []
          },
          "execution_count": 99
        }
      ]
    },
    {
      "cell_type": "code",
      "metadata": {
        "id": "MqnxRhT9Ve27",
        "colab_type": "code",
        "colab": {
          "base_uri": "https://localhost:8080/",
          "height": 34
        },
        "outputId": "85dd5536-9b72-4dbd-d067-f18013ae0e62"
      },
      "source": [
        "f1_score(y_test, predictions,average='micro')"
      ],
      "execution_count": 100,
      "outputs": [
        {
          "output_type": "execute_result",
          "data": {
            "text/plain": [
              "1.0"
            ]
          },
          "metadata": {
            "tags": []
          },
          "execution_count": 100
        }
      ]
    },
    {
      "cell_type": "code",
      "metadata": {
        "id": "xljlrB2MXFmj",
        "colab_type": "code",
        "colab": {}
      },
      "source": [
        ""
      ],
      "execution_count": 0,
      "outputs": []
    }
  ]
}